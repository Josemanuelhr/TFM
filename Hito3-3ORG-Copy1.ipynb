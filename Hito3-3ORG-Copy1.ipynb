{
 "cells": [
  {
   "cell_type": "code",
   "execution_count": 1,
   "id": "9f1f5ad0-c733-4795-b113-c1e64b77e9aa",
   "metadata": {},
   "outputs": [],
   "source": [
    "import os\n",
    "import math\n",
    "\n",
    "# Make TensorFlow logs less verbose\n",
    "os.environ[\"TF_CPP_MIN_LOG_LEVEL\"] = \"3\"\n",
    "\n",
    "import flwr as fl\n",
    "import tensorflow as tf\n",
    "\n",
    "import numpy as np\n",
    "import pandas as pd\n",
    "from sklearn.preprocessing import StandardScaler\n",
    "from sklearn.model_selection import train_test_split\n",
    "from tensorflow.keras.utils import to_categorical\n",
    "\n",
    "from keras.models import Sequential\n",
    "from tensorflow.keras.layers import Dense, BatchNormalization\n",
    "from tensorflow.keras.optimizers import Adadelta\n",
    "\n",
    "from typing import Dict\n",
    "\n",
    "from flwr.common.logger import log\n",
    "from logging import INFO\n",
    "from csv import writer\n",
    "\n",
    "\n",
    "from numpy.random import seed\n",
    "from tensorflow.keras.utils import set_random_seed\n",
    "\n",
    "import matplotlib.pyplot as plt"
   ]
  },
  {
   "cell_type": "code",
   "execution_count": 2,
   "id": "d57f6c1f-f6c1-426c-961a-6354098b6163",
   "metadata": {},
   "outputs": [],
   "source": [
    "def get_empresa_conductor(conductor_id):\n",
    "    for i in range(1,4):\n",
    "        if (conductor_id in CONDUCTORES_IDS[i]):\n",
    "            return i"
   ]
  },
  {
   "cell_type": "code",
   "execution_count": 3,
   "id": "f52d9319-acf7-4490-abed-54072157fa28",
   "metadata": {},
   "outputs": [],
   "source": [
    "''' FUNCION PARA CARGAR LOS DATOS DE UN CLIENTE EN PARTICULAR '''\n",
    "def prepare_model_data(client_file):\n",
    "    df = pd.read_csv(client_file)\n",
    "    \n",
    "    train, test = train_test_split(df, test_size=0.30, random_state=42)\n",
    "    \n",
    "    X_train = train[['psd_delta', 'psd_theta', 'psd_alpha', 'psd_beta', 'psd_gamma','eog_blinks', 'eog_var']]\n",
    "    X_test = test[['psd_delta', 'psd_theta', 'psd_alpha', 'psd_beta', 'psd_gamma','eog_blinks', 'eog_var']]\n",
    "    y_train = train['y_class']\n",
    "    y_test = test['y_class']\n",
    "    \n",
    "    scaler = StandardScaler()\n",
    "\n",
    "    X_train = scaler.fit_transform(X_train)\n",
    "    X_test = scaler.transform(X_test)\n",
    "    \n",
    "    return X_train, X_test, y_train, y_test"
   ]
  },
  {
   "cell_type": "code",
   "execution_count": 4,
   "id": "058cfabd-1970-40e9-86b2-a160a71d4672",
   "metadata": {},
   "outputs": [],
   "source": [
    "def cargar_dataset_varios_clientes(clientes):\n",
    "    base_path = \"./data/centralizado\"\n",
    "    \n",
    "    X_train, X_val, y_train, y_val = prepare_model_data(f'{base_path}/cliente_{clientes[0]}.csv')\n",
    "    \n",
    "    for cid in clientes[1:]:\n",
    "        path = f'{base_path}/cliente_{cid}.csv'\n",
    "        X_train_act, X_val_act, y_train_act, y_val_act = prepare_model_data(path)\n",
    "    \n",
    "        X_train = np.vstack((X_train, X_train_act))\n",
    "        X_val = np.vstack((X_val, X_val_act))\n",
    "        y_train = np.concatenate((y_train, y_train_act))\n",
    "        y_val = np.concatenate((y_val, y_val_act))\n",
    "        \n",
    "    return X_train, X_val, y_train, y_val"
   ]
  },
  {
   "cell_type": "code",
   "execution_count": 5,
   "id": "89c6ccf1-0a08-46f1-84fd-4db8e356fce4",
   "metadata": {},
   "outputs": [],
   "source": [
    "def get_model():\n",
    "    # Model best hyperparameters (Ver notebook Hito0-Optimizacion-Baseline)\n",
    "    neurons = 36\n",
    "    activation = \"relu\"\n",
    "    learning_rate = 0.180165\n",
    "    optimizer = Adadelta(learning_rate=learning_rate)\n",
    "    \n",
    "    input_shape = (7,)\n",
    "    \n",
    "    # Create model\n",
    "    model = Sequential()\n",
    "    \n",
    "    model.add(Dense(neurons, input_shape=input_shape, activation=activation))\n",
    "    \n",
    "    model.add(BatchNormalization())\n",
    "        \n",
    "    model.add(Dense(neurons, activation=activation))\n",
    "    model.add(Dense(neurons, activation=activation))\n",
    "    model.add(Dense(neurons, activation=activation))\n",
    "    \n",
    "    model.add(Dense(1, activation='sigmoid'))\n",
    "    \n",
    "    model.compile(loss='binary_crossentropy', optimizer=optimizer, metrics=['accuracy'])\n",
    "    \n",
    "    return model"
   ]
  },
  {
   "cell_type": "code",
   "execution_count": 6,
   "id": "878cda0b-7bf2-4f01-a664-0b5a0371f339",
   "metadata": {},
   "outputs": [],
   "source": [
    "def get_weights_from_file(path):\n",
    "    a = np.load(path, allow_pickle=True)\n",
    "\n",
    "    n_elems = [252, 36,\n",
    "               36, 36, 36, 36,\n",
    "               1296, 36,\n",
    "               1296, 36,\n",
    "               1296, 36,\n",
    "               36, 1]\n",
    "\n",
    "    weights = []\n",
    "\n",
    "    # https://numpy.org/devdocs/reference/generated/numpy.lib.format.html#version-numbering\n",
    "    # En base a la doc sabemos que los datos de interes estan al final, y como deben ser float32 => 4 bytes\n",
    "    # por lo que se toman los n_elementos*4bytes del final\n",
    "\n",
    "    for i, t in enumerate(a[\"arr_0\"][0].tensors):\n",
    "        act = np.frombuffer(t[-n_elems[i]*4:], dtype=np.float32)\n",
    "        weights.append(act)\n",
    "\n",
    "    # Se cambia la forma para que se adapte a la del modelo\n",
    "    weights[0] = weights[0].reshape(7,36)\n",
    "    weights[6] = weights[6].reshape(36,36)\n",
    "    weights[8] = weights[8].reshape(36,36)\n",
    "    weights[10] = weights[10].reshape(36,36)\n",
    "    weights[12] = weights[12].reshape(36,1)\n",
    "    \n",
    "    return weights"
   ]
  },
  {
   "cell_type": "markdown",
   "id": "08fa1356-f6db-42c2-aef5-79021e69cf2a",
   "metadata": {},
   "source": [
    "# Level 1 functionality"
   ]
  },
  {
   "cell_type": "code",
   "execution_count": 7,
   "id": "a3d8ce07-e6ba-4e37-ab83-3b91774a93c3",
   "metadata": {},
   "outputs": [],
   "source": [
    "class ConductorClient(fl.client.NumPyClient):\n",
    "    def __init__(self, cid, empresa, model, x_train, y_train, x_val, y_val) -> None:\n",
    "        self.cid = cid\n",
    "        self.empresa = empresa\n",
    "        self.model = model\n",
    "        self.x_train, self.y_train = x_train, y_train\n",
    "        self.x_val, self.y_val = x_val, y_val\n",
    "\n",
    "    def get_parameters(self):\n",
    "        return self.model.get_weights()\n",
    "\n",
    "    def fit(self, parameters, config):\n",
    "        self.model.set_weights(parameters)\n",
    "        \n",
    "        seed(1)\n",
    "        set_random_seed(2)\n",
    "        \n",
    "        self.model.fit(self.x_train, self.y_train,\n",
    "                       epochs=1,\n",
    "                       batch_size=32,\n",
    "                       verbose=0)\n",
    "        \n",
    "        return self.model.get_weights(), len(self.x_train), {\"client\": self.cid, \"empresa\": self.empresa}\n",
    "\n",
    "    def evaluate(self, parameters, config):\n",
    "        self.model.set_weights(parameters)\n",
    "        \n",
    "        loss, acc = self.model.evaluate(self.x_val, self.y_val, verbose=0)\n",
    "        \n",
    "        return loss, len(self.x_val), {\"accuracy\": acc, \"client\": self.cid, \"empresa\": self.empresa}"
   ]
  },
  {
   "cell_type": "code",
   "execution_count": 8,
   "id": "b1788161-3275-43ff-beaf-b881abf00786",
   "metadata": {},
   "outputs": [],
   "source": [
    "def conductor_fn(cid: str) -> fl.client.Client:\n",
    "    model = get_model()\n",
    "    \n",
    "    empresa = get_empresa_conductor(int(cid))\n",
    "    \n",
    "    # Load data partition\n",
    "    base_path = \"./data/horizontal_v3/\"\n",
    "    path = f\"{base_path}empresa_{empresa}/cliente_{cid}.csv\"\n",
    "    \n",
    "    x_train_cid, x_val_cid, y_train_cid, y_val_cid = prepare_model_data(path)\n",
    "\n",
    "    # Create and return client\n",
    "    return ConductorClient(cid, empresa, model, x_train_cid, y_train_cid, x_val_cid, y_val_cid)"
   ]
  },
  {
   "cell_type": "markdown",
   "id": "4bc629e1-57cf-425b-832d-2f874b86467c",
   "metadata": {},
   "source": [
    "### FIXME"
   ]
  },
  {
   "cell_type": "code",
   "execution_count": 9,
   "id": "bc753e62-9a39-4a13-883e-8854ac33e2c6",
   "metadata": {},
   "outputs": [],
   "source": [
    "class L1SaveModelStrategy(fl.server.strategy.FedAvg):\n",
    "    def aggregate_fit(self, rnd, results, failures):\n",
    "        aggregated_weights = super().aggregate_fit(rnd, results, failures)\n",
    "        \n",
    "        # COMPROBAR DE QUE EMPRESA ES EL CLIENTE\n",
    "        emp_id = results[1][1].metrics[\"empresa\"]\n",
    "        \n",
    "        if aggregated_weights is not None:\n",
    "            # Save aggregated_weights\n",
    "            print(f\"Saving L1 round {CURRENT_RND} E{emp_id} aggregated_weights...\")\n",
    "            np.savez(f\"./rounds/hito3_L1-round-{CURRENT_RND}-E{emp_id}-weights.npz\", aggregated_weights)\n",
    "            \n",
    "        return aggregated_weights\n",
    "\n",
    "    def aggregate_evaluate(self, rnd, results, failures):\n",
    "        super_result = super().aggregate_evaluate(rnd, results, failures)\n",
    "        \n",
    "#         log(\n",
    "#             INFO,\n",
    "#             f\"round-{rnd}-EVALUATION\"\n",
    "#         )\n",
    "        \n",
    "#         accuracy = []\n",
    "#         data = {}\n",
    "#         for r in results:\n",
    "#             acc = r[1].metrics[\"accuracy\"]\n",
    "#             client = r[1].metrics[\"client\"]\n",
    "#             data[client] = acc\n",
    "#             accuracy.append(acc)\n",
    "        \n",
    "#         df = pd.DataFrame(data, index=[0], columns=sorted(data.keys()))\n",
    "#         df.to_csv(f\"./results/hito1_v3-empresa_{EMPRESA_ACTUAL}.csv\", mode='a', index=False, header=False)\n",
    "        \n",
    "#         log(\n",
    "#             INFO,\n",
    "#             sorted(data.items())\n",
    "#         )\n",
    "        \n",
    "#         np.array(accuracy)\n",
    "#         log(\n",
    "#             INFO,\n",
    "#             f\"Aggregated accuracy: {np.mean(accuracy)} +- {np.std(accuracy)}\"\n",
    "#         )\n",
    "        \n",
    "        return super_result"
   ]
  },
  {
   "cell_type": "markdown",
   "id": "0281a096-5c42-49e8-bf87-ab20a7114bcc",
   "metadata": {},
   "source": [
    "# Level 2 functionality"
   ]
  },
  {
   "cell_type": "code",
   "execution_count": 10,
   "id": "2f89b719-52ad-4322-b6c0-c3dddc34938f",
   "metadata": {},
   "outputs": [],
   "source": [
    "class EmpresaClient(fl.client.NumPyClient):\n",
    "    def __init__(self, cid, model, x_train, y_train, x_val, y_val) -> None:\n",
    "        self.cid = cid\n",
    "        self.model = model\n",
    "        self.x_train, self.y_train = x_train, y_train\n",
    "        self.x_val, self.y_val = x_val, y_val\n",
    "\n",
    "    def get_parameters(self):\n",
    "        return self.model.get_weights()\n",
    "\n",
    "    def fit(self, parameters, config):\n",
    "        emp_id = int(self.cid[-1])\n",
    "                \n",
    "        # Se cargan los pesos agregados para la epoch de todos los conductores\n",
    "        rnd = int(config[\"round\"])\n",
    "        path = f\"./rounds/hito3_L1-round-{CURRENT_RND}-E{emp_id}-weights.npz\"\n",
    "        \n",
    "        weights = get_weights_from_file(path)\n",
    "        \n",
    "        # Se recuentan cuantas observaciones de train hay\n",
    "        obs_total = len(self.x_train)\n",
    "        \n",
    "        return weights, obs_total, {\"client\": self.cid}\n",
    "\n",
    "    def evaluate(self, parameters, config):\n",
    "        self.model.set_weights(parameters)\n",
    "        \n",
    "        loss, acc = self.model.evaluate(self.x_val, self.y_val, verbose=0)\n",
    "        \n",
    "        # Se recuentan cuantas observaciones de test hay\n",
    "        obs_total = len(self.x_val)\n",
    "        \n",
    "        return loss, obs_total, {\"accuracy\": acc, \"client\": self.cid}"
   ]
  },
  {
   "cell_type": "code",
   "execution_count": 11,
   "id": "e71f116b-30a1-45dd-9003-ab502ad641b4",
   "metadata": {},
   "outputs": [],
   "source": [
    "def empresa_fn(cid: str) -> fl.client.Client:\n",
    "    model = get_model()\n",
    "    \n",
    "    # Load data partition\n",
    "    emp_id = int(cid[-1])\n",
    "    x_train_cid, x_val_cid, y_train_cid, y_val_cid = cargar_dataset_varios_clientes(CONDUCTORES_IDS[emp_id])\n",
    "    \n",
    "    # Create and return client\n",
    "    return EmpresaClient(cid, model, x_train_cid, y_train_cid, x_val_cid, y_val_cid)"
   ]
  },
  {
   "cell_type": "code",
   "execution_count": 12,
   "id": "92ae4c4a-961d-4b6a-85e1-bc03a387171e",
   "metadata": {},
   "outputs": [],
   "source": [
    "class L2SaveModelStrategy(fl.server.strategy.FedAvg):\n",
    "    def aggregate_fit(self, rnd, results, failures):\n",
    "        aggregated_weights = super().aggregate_fit(rnd, results, failures)\n",
    "        \n",
    "        if aggregated_weights is not None:\n",
    "            # Save aggregated_weights\n",
    "            print(f\"Saving L2 round {CURRENT_RND} aggregated_weights...\")\n",
    "            np.savez(f\"./rounds/hito3_L2-round-{CURRENT_RND}-weights.npz\", aggregated_weights)\n",
    "            \n",
    "        return aggregated_weights\n",
    "\n",
    "    def aggregate_evaluate(self, rnd, results, failures):\n",
    "        super_result = super().aggregate_evaluate(rnd, results, failures)\n",
    "        \n",
    "        log(\n",
    "            INFO,\n",
    "            f\"round-{CURRENT_RND}-EVALUATION\"\n",
    "        )\n",
    "        \n",
    "        accuracy = []\n",
    "        data = {}\n",
    "        for r in results:\n",
    "            acc = r[1].metrics[\"accuracy\"]\n",
    "            client = r[1].metrics[\"client\"]\n",
    "            data[client] = acc\n",
    "            \n",
    "            accuracy.append(acc)\n",
    "        \n",
    "        df = pd.DataFrame(data, index=[0], columns=sorted(data.keys()))\n",
    "        df.to_csv(f\"./results/hito3.csv\", mode='a', index=False, header=False)\n",
    "        \n",
    "        log(\n",
    "            INFO,\n",
    "            sorted(data.items())\n",
    "        )\n",
    "        \n",
    "        np.array(accuracy)\n",
    "        log(\n",
    "            INFO,\n",
    "            f\"Aggregated accuracy: {np.mean(accuracy)} +- {np.std(accuracy)}\"\n",
    "        )\n",
    "        \n",
    "        return super_result"
   ]
  },
  {
   "cell_type": "code",
   "execution_count": 14,
   "id": "8a76d342-6f86-4976-a509-063f8de847a3",
   "metadata": {
    "collapsed": true,
    "jupyter": {
     "outputs_hidden": true
    },
    "tags": []
   },
   "outputs": [
    {
     "name": "stderr",
     "output_type": "stream",
     "text": [
      "INFO flower 2022-05-03 11:58:39,656 | app.py:144 | Ray initialized with resources: {'GPU': 1.0, 'node:127.0.0.1': 1.0, 'memory': 16082573723.0, 'CPU': 8.0, 'object_store_memory': 8041286860.0}\n",
      "INFO flower 2022-05-03 11:58:39,657 | app.py:153 | Starting Flower simulation running: {'num_rounds': 1}\n",
      "INFO flower 2022-05-03 11:58:39,658 | server.py:128 | Initializing global parameters\n",
      "INFO flower 2022-05-03 11:58:39,658 | server.py:323 | Using initial parameters provided by strategy\n",
      "INFO flower 2022-05-03 11:58:39,659 | server.py:130 | Evaluating initial parameters\n",
      "INFO flower 2022-05-03 11:58:39,659 | server.py:143 | FL starting\n",
      "DEBUG flower 2022-05-03 11:58:39,659 | server.py:265 | fit_round: strategy sampled 7 clients (out of 7)\n",
      "DEBUG flower 2022-05-03 11:58:48,302 | server.py:277 | fit_round received 7 results and 0 failures\n",
      "DEBUG flower 2022-05-03 11:58:48,319 | server.py:211 | evaluate_round: strategy sampled 7 clients (out of 7)\n"
     ]
    },
    {
     "name": "stdout",
     "output_type": "stream",
     "text": [
      "Saving L1 round 1 E1 aggregated_weights...\n"
     ]
    },
    {
     "name": "stderr",
     "output_type": "stream",
     "text": [
      "DEBUG flower 2022-05-03 11:58:50,187 | server.py:223 | evaluate_round received 7 results and 0 failures\n",
      "INFO flower 2022-05-03 11:58:50,187 | server.py:182 | FL finished in 10.52805029999999\n",
      "INFO flower 2022-05-03 11:58:50,188 | app.py:149 | app_fit: losses_distributed [(1, 0.668790046564305)]\n",
      "INFO flower 2022-05-03 11:58:50,189 | app.py:150 | app_fit: metrics_distributed {}\n",
      "INFO flower 2022-05-03 11:58:50,189 | app.py:151 | app_fit: losses_centralized []\n",
      "INFO flower 2022-05-03 11:58:50,190 | app.py:152 | app_fit: metrics_centralized {}\n",
      "INFO flower 2022-05-03 11:58:55,307 | app.py:144 | Ray initialized with resources: {'GPU': 1.0, 'memory': 13276604007.0, 'node:127.0.0.1': 1.0, 'object_store_memory': 6638302003.0, 'CPU': 8.0}\n",
      "INFO flower 2022-05-03 11:58:55,307 | app.py:153 | Starting Flower simulation running: {'num_rounds': 1}\n",
      "INFO flower 2022-05-03 11:58:55,308 | server.py:128 | Initializing global parameters\n",
      "INFO flower 2022-05-03 11:58:55,308 | server.py:323 | Using initial parameters provided by strategy\n",
      "INFO flower 2022-05-03 11:58:55,308 | server.py:130 | Evaluating initial parameters\n",
      "INFO flower 2022-05-03 11:58:55,309 | server.py:143 | FL starting\n",
      "DEBUG flower 2022-05-03 11:58:55,309 | server.py:265 | fit_round: strategy sampled 7 clients (out of 7)\n",
      "DEBUG flower 2022-05-03 11:59:03,257 | server.py:277 | fit_round received 7 results and 0 failures\n",
      "DEBUG flower 2022-05-03 11:59:03,273 | server.py:211 | evaluate_round: strategy sampled 7 clients (out of 7)\n"
     ]
    },
    {
     "name": "stdout",
     "output_type": "stream",
     "text": [
      "Saving L1 round 1 E2 aggregated_weights...\n"
     ]
    },
    {
     "name": "stderr",
     "output_type": "stream",
     "text": [
      "DEBUG flower 2022-05-03 11:59:05,018 | server.py:223 | evaluate_round received 7 results and 0 failures\n",
      "INFO flower 2022-05-03 11:59:05,018 | server.py:182 | FL finished in 9.709230399999996\n",
      "INFO flower 2022-05-03 11:59:05,019 | app.py:149 | app_fit: losses_distributed [(1, 0.6282893465322353)]\n",
      "INFO flower 2022-05-03 11:59:05,019 | app.py:150 | app_fit: metrics_distributed {}\n",
      "INFO flower 2022-05-03 11:59:05,019 | app.py:151 | app_fit: losses_centralized []\n",
      "INFO flower 2022-05-03 11:59:05,020 | app.py:152 | app_fit: metrics_centralized {}\n",
      "INFO flower 2022-05-03 11:59:09,936 | app.py:144 | Ray initialized with resources: {'CPU': 8.0, 'GPU': 1.0, 'memory': 13053662823.0, 'node:127.0.0.1': 1.0, 'object_store_memory': 6526831411.0}\n",
      "INFO flower 2022-05-03 11:59:09,937 | app.py:153 | Starting Flower simulation running: {'num_rounds': 1}\n",
      "INFO flower 2022-05-03 11:59:09,937 | server.py:128 | Initializing global parameters\n",
      "INFO flower 2022-05-03 11:59:09,938 | server.py:323 | Using initial parameters provided by strategy\n",
      "INFO flower 2022-05-03 11:59:09,938 | server.py:130 | Evaluating initial parameters\n",
      "INFO flower 2022-05-03 11:59:09,939 | server.py:143 | FL starting\n",
      "DEBUG flower 2022-05-03 11:59:09,939 | server.py:265 | fit_round: strategy sampled 7 clients (out of 7)\n",
      "DEBUG flower 2022-05-03 11:59:17,643 | server.py:277 | fit_round received 7 results and 0 failures\n",
      "DEBUG flower 2022-05-03 11:59:17,658 | server.py:211 | evaluate_round: strategy sampled 7 clients (out of 7)\n"
     ]
    },
    {
     "name": "stdout",
     "output_type": "stream",
     "text": [
      "Saving L1 round 1 E3 aggregated_weights...\n"
     ]
    },
    {
     "name": "stderr",
     "output_type": "stream",
     "text": [
      "DEBUG flower 2022-05-03 11:59:19,297 | server.py:223 | evaluate_round received 7 results and 0 failures\n",
      "INFO flower 2022-05-03 11:59:19,297 | server.py:182 | FL finished in 9.358822800000013\n",
      "INFO flower 2022-05-03 11:59:19,298 | app.py:149 | app_fit: losses_distributed [(1, 0.6896496841465284)]\n",
      "INFO flower 2022-05-03 11:59:19,298 | app.py:150 | app_fit: metrics_distributed {}\n",
      "INFO flower 2022-05-03 11:59:19,299 | app.py:151 | app_fit: losses_centralized []\n",
      "INFO flower 2022-05-03 11:59:19,299 | app.py:152 | app_fit: metrics_centralized {}\n",
      "INFO flower 2022-05-03 11:59:24,780 | app.py:144 | Ray initialized with resources: {'node:127.0.0.1': 1.0, 'CPU': 8.0, 'object_store_memory': 6526574592.0, 'GPU': 1.0, 'memory': 13053149184.0}\n",
      "INFO flower 2022-05-03 11:59:24,781 | app.py:153 | Starting Flower simulation running: {'num_rounds': 1}\n",
      "INFO flower 2022-05-03 11:59:24,783 | server.py:128 | Initializing global parameters\n",
      "INFO flower 2022-05-03 11:59:24,783 | server.py:323 | Using initial parameters provided by strategy\n",
      "INFO flower 2022-05-03 11:59:24,785 | server.py:130 | Evaluating initial parameters\n",
      "INFO flower 2022-05-03 11:59:24,786 | server.py:143 | FL starting\n",
      "DEBUG flower 2022-05-03 11:59:24,786 | server.py:265 | fit_round: strategy sampled 3 clients (out of 3)\n",
      "DEBUG flower 2022-05-03 11:59:31,499 | server.py:277 | fit_round received 3 results and 0 failures\n",
      "DEBUG flower 2022-05-03 11:59:31,514 | server.py:211 | evaluate_round: strategy sampled 3 clients (out of 3)\n"
     ]
    },
    {
     "name": "stdout",
     "output_type": "stream",
     "text": [
      "Saving L2 round 1 aggregated_weights...\n"
     ]
    },
    {
     "name": "stderr",
     "output_type": "stream",
     "text": [
      "DEBUG flower 2022-05-03 11:59:36,854 | server.py:223 | evaluate_round received 3 results and 0 failures\n",
      "INFO flower 2022-05-03 11:59:36,854 | 2028186136.py:15 | round-1-EVALUATION\n",
      "INFO flower 2022-05-03 11:59:36,865 | 2028186136.py:32 | [('empresa_1', 0.5628295540809631), ('empresa_2', 0.7693175673484802), ('empresa_3', 0.43562111258506775)]\n",
      "INFO flower 2022-05-03 11:59:36,866 | 2028186136.py:38 | Aggregated accuracy: 0.589256078004837 +- 0.13750661039974735\n",
      "INFO flower 2022-05-03 11:59:36,866 | server.py:182 | FL finished in 12.079279200000002\n",
      "INFO flower 2022-05-03 11:59:36,866 | app.py:149 | app_fit: losses_distributed [(1, 0.669446816617919)]\n",
      "INFO flower 2022-05-03 11:59:36,867 | app.py:150 | app_fit: metrics_distributed {}\n",
      "INFO flower 2022-05-03 11:59:36,867 | app.py:151 | app_fit: losses_centralized []\n",
      "INFO flower 2022-05-03 11:59:36,868 | app.py:152 | app_fit: metrics_centralized {}\n",
      "INFO flower 2022-05-03 11:59:42,222 | app.py:144 | Ray initialized with resources: {'node:127.0.0.1': 1.0, 'object_store_memory': 4157304422.0, 'GPU': 1.0, 'CPU': 8.0, 'memory': 8314608846.0}\n",
      "INFO flower 2022-05-03 11:59:42,223 | app.py:153 | Starting Flower simulation running: {'num_rounds': 1}\n",
      "INFO flower 2022-05-03 11:59:42,223 | server.py:128 | Initializing global parameters\n",
      "INFO flower 2022-05-03 11:59:42,224 | server.py:323 | Using initial parameters provided by strategy\n",
      "INFO flower 2022-05-03 11:59:42,224 | server.py:130 | Evaluating initial parameters\n",
      "INFO flower 2022-05-03 11:59:42,225 | server.py:143 | FL starting\n",
      "DEBUG flower 2022-05-03 11:59:42,225 | server.py:265 | fit_round: strategy sampled 7 clients (out of 7)\n",
      "DEBUG flower 2022-05-03 11:59:50,601 | server.py:277 | fit_round received 7 results and 0 failures\n",
      "DEBUG flower 2022-05-03 11:59:50,624 | server.py:211 | evaluate_round: strategy sampled 7 clients (out of 7)\n"
     ]
    },
    {
     "name": "stdout",
     "output_type": "stream",
     "text": [
      "Saving L1 round 2 E1 aggregated_weights...\n"
     ]
    },
    {
     "name": "stderr",
     "output_type": "stream",
     "text": [
      "DEBUG flower 2022-05-03 11:59:52,561 | server.py:223 | evaluate_round received 7 results and 0 failures\n",
      "INFO flower 2022-05-03 11:59:52,561 | server.py:182 | FL finished in 10.337176199999988\n",
      "INFO flower 2022-05-03 11:59:52,562 | app.py:149 | app_fit: losses_distributed [(1, 0.6575571591122917)]\n",
      "INFO flower 2022-05-03 11:59:52,563 | app.py:150 | app_fit: metrics_distributed {}\n",
      "INFO flower 2022-05-03 11:59:52,563 | app.py:151 | app_fit: losses_centralized []\n",
      "INFO flower 2022-05-03 11:59:52,563 | app.py:152 | app_fit: metrics_centralized {}\n",
      "INFO flower 2022-05-03 11:59:57,948 | app.py:144 | Ray initialized with resources: {'GPU': 1.0, 'memory': 12387758900.0, 'node:127.0.0.1': 1.0, 'object_store_memory': 6193879449.0, 'CPU': 8.0}\n",
      "INFO flower 2022-05-03 11:59:57,949 | app.py:153 | Starting Flower simulation running: {'num_rounds': 1}\n",
      "INFO flower 2022-05-03 11:59:57,949 | server.py:128 | Initializing global parameters\n",
      "INFO flower 2022-05-03 11:59:57,950 | server.py:323 | Using initial parameters provided by strategy\n",
      "INFO flower 2022-05-03 11:59:57,950 | server.py:130 | Evaluating initial parameters\n",
      "INFO flower 2022-05-03 11:59:57,951 | server.py:143 | FL starting\n",
      "DEBUG flower 2022-05-03 11:59:57,951 | server.py:265 | fit_round: strategy sampled 7 clients (out of 7)\n",
      "DEBUG flower 2022-05-03 12:00:06,024 | server.py:277 | fit_round received 7 results and 0 failures\n",
      "DEBUG flower 2022-05-03 12:00:06,041 | server.py:211 | evaluate_round: strategy sampled 7 clients (out of 7)\n"
     ]
    },
    {
     "name": "stdout",
     "output_type": "stream",
     "text": [
      "Saving L1 round 2 E2 aggregated_weights...\n"
     ]
    },
    {
     "name": "stderr",
     "output_type": "stream",
     "text": [
      "DEBUG flower 2022-05-03 12:00:07,857 | server.py:223 | evaluate_round received 7 results and 0 failures\n",
      "INFO flower 2022-05-03 12:00:07,858 | server.py:182 | FL finished in 9.907156299999997\n",
      "INFO flower 2022-05-03 12:00:07,858 | app.py:149 | app_fit: losses_distributed [(1, 0.6143572720107021)]\n",
      "INFO flower 2022-05-03 12:00:07,859 | app.py:150 | app_fit: metrics_distributed {}\n",
      "INFO flower 2022-05-03 12:00:07,859 | app.py:151 | app_fit: losses_centralized []\n",
      "INFO flower 2022-05-03 12:00:07,859 | app.py:152 | app_fit: metrics_centralized {}\n",
      "INFO flower 2022-05-03 12:00:12,739 | app.py:144 | Ray initialized with resources: {'CPU': 8.0, 'GPU': 1.0, 'memory': 12215011739.0, 'node:127.0.0.1': 1.0, 'object_store_memory': 6107505868.0}\n",
      "INFO flower 2022-05-03 12:00:12,739 | app.py:153 | Starting Flower simulation running: {'num_rounds': 1}\n",
      "INFO flower 2022-05-03 12:00:12,740 | server.py:128 | Initializing global parameters\n",
      "INFO flower 2022-05-03 12:00:12,740 | server.py:323 | Using initial parameters provided by strategy\n",
      "INFO flower 2022-05-03 12:00:12,740 | server.py:130 | Evaluating initial parameters\n",
      "INFO flower 2022-05-03 12:00:12,741 | server.py:143 | FL starting\n",
      "DEBUG flower 2022-05-03 12:00:12,742 | server.py:265 | fit_round: strategy sampled 7 clients (out of 7)\n",
      "DEBUG flower 2022-05-03 12:00:20,592 | server.py:277 | fit_round received 7 results and 0 failures\n",
      "DEBUG flower 2022-05-03 12:00:20,608 | server.py:211 | evaluate_round: strategy sampled 7 clients (out of 7)\n"
     ]
    },
    {
     "name": "stdout",
     "output_type": "stream",
     "text": [
      "Saving L1 round 2 E3 aggregated_weights...\n"
     ]
    },
    {
     "name": "stderr",
     "output_type": "stream",
     "text": [
      "DEBUG flower 2022-05-03 12:00:22,237 | server.py:223 | evaluate_round received 7 results and 0 failures\n",
      "INFO flower 2022-05-03 12:00:22,237 | server.py:182 | FL finished in 9.495856400000008\n",
      "INFO flower 2022-05-03 12:00:22,238 | app.py:149 | app_fit: losses_distributed [(1, 0.6805610034659175)]\n",
      "INFO flower 2022-05-03 12:00:22,238 | app.py:150 | app_fit: metrics_distributed {}\n",
      "INFO flower 2022-05-03 12:00:22,239 | app.py:151 | app_fit: losses_centralized []\n",
      "INFO flower 2022-05-03 12:00:22,239 | app.py:152 | app_fit: metrics_centralized {}\n",
      "INFO flower 2022-05-03 12:00:27,300 | app.py:144 | Ray initialized with resources: {'memory': 12282404046.0, 'CPU': 8.0, 'object_store_memory': 6141202022.0, 'GPU': 1.0, 'node:127.0.0.1': 1.0}\n",
      "INFO flower 2022-05-03 12:00:27,300 | app.py:153 | Starting Flower simulation running: {'num_rounds': 1}\n",
      "INFO flower 2022-05-03 12:00:27,301 | server.py:128 | Initializing global parameters\n",
      "INFO flower 2022-05-03 12:00:27,301 | server.py:323 | Using initial parameters provided by strategy\n",
      "INFO flower 2022-05-03 12:00:27,301 | server.py:130 | Evaluating initial parameters\n",
      "INFO flower 2022-05-03 12:00:27,302 | server.py:143 | FL starting\n",
      "DEBUG flower 2022-05-03 12:00:27,302 | server.py:265 | fit_round: strategy sampled 3 clients (out of 3)\n",
      "DEBUG flower 2022-05-03 12:00:31,103 | server.py:277 | fit_round received 3 results and 0 failures\n",
      "DEBUG flower 2022-05-03 12:00:31,119 | server.py:211 | evaluate_round: strategy sampled 3 clients (out of 3)\n"
     ]
    },
    {
     "name": "stdout",
     "output_type": "stream",
     "text": [
      "Saving L2 round 2 aggregated_weights...\n"
     ]
    },
    {
     "name": "stderr",
     "output_type": "stream",
     "text": [
      "DEBUG flower 2022-05-03 12:00:35,026 | server.py:223 | evaluate_round received 3 results and 0 failures\n",
      "INFO flower 2022-05-03 12:00:35,026 | 2028186136.py:15 | round-2-EVALUATION\n",
      "INFO flower 2022-05-03 12:00:35,028 | 2028186136.py:32 | [('empresa_1', 0.5641476511955261), ('empresa_2', 0.7681894898414612), ('empresa_3', 0.4384571611881256)]\n",
      "INFO flower 2022-05-03 12:00:35,029 | 2028186136.py:38 | Aggregated accuracy: 0.590264767408371 +- 0.13587354405044974\n",
      "INFO flower 2022-05-03 12:00:35,029 | server.py:182 | FL finished in 7.726372199999986\n",
      "INFO flower 2022-05-03 12:00:35,030 | app.py:149 | app_fit: losses_distributed [(1, 0.6589438300951547)]\n",
      "INFO flower 2022-05-03 12:00:35,030 | app.py:150 | app_fit: metrics_distributed {}\n",
      "INFO flower 2022-05-03 12:00:35,030 | app.py:151 | app_fit: losses_centralized []\n",
      "INFO flower 2022-05-03 12:00:35,031 | app.py:152 | app_fit: metrics_centralized {}\n",
      "INFO flower 2022-05-03 12:00:39,953 | app.py:144 | Ray initialized with resources: {'GPU': 1.0, 'CPU': 8.0, 'memory': 10449297408.0, 'node:127.0.0.1': 1.0, 'object_store_memory': 5224648704.0}\n",
      "INFO flower 2022-05-03 12:00:39,953 | app.py:153 | Starting Flower simulation running: {'num_rounds': 1}\n",
      "INFO flower 2022-05-03 12:00:39,954 | server.py:128 | Initializing global parameters\n",
      "INFO flower 2022-05-03 12:00:39,954 | server.py:323 | Using initial parameters provided by strategy\n",
      "INFO flower 2022-05-03 12:00:39,955 | server.py:130 | Evaluating initial parameters\n",
      "INFO flower 2022-05-03 12:00:39,955 | server.py:143 | FL starting\n",
      "DEBUG flower 2022-05-03 12:00:39,955 | server.py:265 | fit_round: strategy sampled 7 clients (out of 7)\n",
      "DEBUG flower 2022-05-03 12:00:48,133 | server.py:277 | fit_round received 7 results and 0 failures\n",
      "DEBUG flower 2022-05-03 12:00:48,149 | server.py:211 | evaluate_round: strategy sampled 7 clients (out of 7)\n"
     ]
    },
    {
     "name": "stdout",
     "output_type": "stream",
     "text": [
      "Saving L1 round 3 E1 aggregated_weights...\n"
     ]
    },
    {
     "name": "stderr",
     "output_type": "stream",
     "text": [
      "DEBUG flower 2022-05-03 12:00:49,929 | server.py:223 | evaluate_round received 7 results and 0 failures\n",
      "INFO flower 2022-05-03 12:00:49,929 | server.py:182 | FL finished in 9.974221200000017\n",
      "INFO flower 2022-05-03 12:00:49,930 | app.py:149 | app_fit: losses_distributed [(1, 0.6466961456151754)]\n",
      "INFO flower 2022-05-03 12:00:49,930 | app.py:150 | app_fit: metrics_distributed {}\n",
      "INFO flower 2022-05-03 12:00:49,930 | app.py:151 | app_fit: losses_centralized []\n",
      "INFO flower 2022-05-03 12:00:49,931 | app.py:152 | app_fit: metrics_centralized {}\n",
      "INFO flower 2022-05-03 12:00:55,379 | app.py:144 | Ray initialized with resources: {'CPU': 8.0, 'GPU': 1.0, 'memory': 12333868647.0, 'node:127.0.0.1': 1.0, 'object_store_memory': 6166934323.0}\n",
      "INFO flower 2022-05-03 12:00:55,379 | app.py:153 | Starting Flower simulation running: {'num_rounds': 1}\n",
      "INFO flower 2022-05-03 12:00:55,380 | server.py:128 | Initializing global parameters\n",
      "INFO flower 2022-05-03 12:00:55,380 | server.py:323 | Using initial parameters provided by strategy\n",
      "INFO flower 2022-05-03 12:00:55,380 | server.py:130 | Evaluating initial parameters\n",
      "INFO flower 2022-05-03 12:00:55,381 | server.py:143 | FL starting\n",
      "DEBUG flower 2022-05-03 12:00:55,381 | server.py:265 | fit_round: strategy sampled 7 clients (out of 7)\n",
      "DEBUG flower 2022-05-03 12:01:03,290 | server.py:277 | fit_round received 7 results and 0 failures\n",
      "DEBUG flower 2022-05-03 12:01:03,306 | server.py:211 | evaluate_round: strategy sampled 7 clients (out of 7)\n"
     ]
    },
    {
     "name": "stdout",
     "output_type": "stream",
     "text": [
      "Saving L1 round 3 E2 aggregated_weights...\n"
     ]
    },
    {
     "name": "stderr",
     "output_type": "stream",
     "text": [
      "DEBUG flower 2022-05-03 12:01:05,035 | server.py:223 | evaluate_round received 7 results and 0 failures\n",
      "INFO flower 2022-05-03 12:01:05,036 | server.py:182 | FL finished in 9.6551288\n",
      "INFO flower 2022-05-03 12:01:05,036 | app.py:149 | app_fit: losses_distributed [(1, 0.5999407238094268)]\n",
      "INFO flower 2022-05-03 12:01:05,037 | app.py:150 | app_fit: metrics_distributed {}\n",
      "INFO flower 2022-05-03 12:01:05,037 | app.py:151 | app_fit: losses_centralized []\n",
      "INFO flower 2022-05-03 12:01:05,038 | app.py:152 | app_fit: metrics_centralized {}\n",
      "INFO flower 2022-05-03 12:01:09,886 | app.py:144 | Ray initialized with resources: {'object_store_memory': 6176735232.0, 'CPU': 8.0, 'GPU': 1.0, 'memory': 12353470464.0, 'node:127.0.0.1': 1.0}\n",
      "INFO flower 2022-05-03 12:01:09,886 | app.py:153 | Starting Flower simulation running: {'num_rounds': 1}\n",
      "INFO flower 2022-05-03 12:01:09,886 | server.py:128 | Initializing global parameters\n",
      "INFO flower 2022-05-03 12:01:09,887 | server.py:323 | Using initial parameters provided by strategy\n",
      "INFO flower 2022-05-03 12:01:09,887 | server.py:130 | Evaluating initial parameters\n",
      "INFO flower 2022-05-03 12:01:09,888 | server.py:143 | FL starting\n",
      "DEBUG flower 2022-05-03 12:01:09,888 | server.py:265 | fit_round: strategy sampled 7 clients (out of 7)\n",
      "DEBUG flower 2022-05-03 12:01:17,640 | server.py:277 | fit_round received 7 results and 0 failures\n",
      "DEBUG flower 2022-05-03 12:01:17,663 | server.py:211 | evaluate_round: strategy sampled 7 clients (out of 7)\n"
     ]
    },
    {
     "name": "stdout",
     "output_type": "stream",
     "text": [
      "Saving L1 round 3 E3 aggregated_weights...\n"
     ]
    },
    {
     "name": "stderr",
     "output_type": "stream",
     "text": [
      "DEBUG flower 2022-05-03 12:01:19,285 | server.py:223 | evaluate_round received 7 results and 0 failures\n",
      "INFO flower 2022-05-03 12:01:19,285 | server.py:182 | FL finished in 9.397612400000014\n",
      "INFO flower 2022-05-03 12:01:19,286 | app.py:149 | app_fit: losses_distributed [(1, 0.6710682033275381)]\n",
      "INFO flower 2022-05-03 12:01:19,286 | app.py:150 | app_fit: metrics_distributed {}\n",
      "INFO flower 2022-05-03 12:01:19,286 | app.py:151 | app_fit: losses_centralized []\n",
      "INFO flower 2022-05-03 12:01:19,287 | app.py:152 | app_fit: metrics_centralized {}\n",
      "INFO flower 2022-05-03 12:01:24,355 | app.py:144 | Ray initialized with resources: {'object_store_memory': 6192398745.0, 'GPU': 1.0, 'CPU': 8.0, 'node:127.0.0.1': 1.0, 'memory': 12384797492.0}\n",
      "INFO flower 2022-05-03 12:01:24,356 | app.py:153 | Starting Flower simulation running: {'num_rounds': 1}\n",
      "INFO flower 2022-05-03 12:01:24,357 | server.py:128 | Initializing global parameters\n",
      "INFO flower 2022-05-03 12:01:24,357 | server.py:323 | Using initial parameters provided by strategy\n",
      "INFO flower 2022-05-03 12:01:24,357 | server.py:130 | Evaluating initial parameters\n",
      "INFO flower 2022-05-03 12:01:24,358 | server.py:143 | FL starting\n",
      "DEBUG flower 2022-05-03 12:01:24,358 | server.py:265 | fit_round: strategy sampled 3 clients (out of 3)\n",
      "DEBUG flower 2022-05-03 12:01:28,732 | server.py:277 | fit_round received 3 results and 0 failures\n",
      "DEBUG flower 2022-05-03 12:01:28,740 | server.py:211 | evaluate_round: strategy sampled 3 clients (out of 3)\n"
     ]
    },
    {
     "name": "stdout",
     "output_type": "stream",
     "text": [
      "Saving L2 round 3 aggregated_weights...\n"
     ]
    },
    {
     "name": "stderr",
     "output_type": "stream",
     "text": [
      "DEBUG flower 2022-05-03 12:01:35,059 | server.py:223 | evaluate_round received 3 results and 0 failures\n",
      "INFO flower 2022-05-03 12:01:35,059 | 2028186136.py:15 | round-3-EVALUATION\n",
      "INFO flower 2022-05-03 12:01:35,061 | 2028186136.py:32 | [('empresa_1', 0.5663444399833679), ('empresa_2', 0.7670614719390869), ('empresa_3', 0.44639819860458374)]\n",
      "INFO flower 2022-05-03 12:01:35,062 | 2028186136.py:38 | Aggregated accuracy: 0.5932680368423462 +- 0.13228729787163535\n",
      "INFO flower 2022-05-03 12:01:35,062 | server.py:182 | FL finished in 10.703622300000006\n",
      "INFO flower 2022-05-03 12:01:35,063 | app.py:149 | app_fit: losses_distributed [(1, 0.6484673175927449)]\n",
      "INFO flower 2022-05-03 12:01:35,063 | app.py:150 | app_fit: metrics_distributed {}\n",
      "INFO flower 2022-05-03 12:01:35,064 | app.py:151 | app_fit: losses_centralized []\n",
      "INFO flower 2022-05-03 12:01:35,064 | app.py:152 | app_fit: metrics_centralized {}\n",
      "INFO flower 2022-05-03 12:01:40,360 | app.py:144 | Ray initialized with resources: {'GPU': 1.0, 'CPU': 8.0, 'node:127.0.0.1': 1.0, 'memory': 12155921204.0, 'object_store_memory': 6077960601.0}\n",
      "INFO flower 2022-05-03 12:01:40,361 | app.py:153 | Starting Flower simulation running: {'num_rounds': 1}\n",
      "INFO flower 2022-05-03 12:01:40,361 | server.py:128 | Initializing global parameters\n",
      "INFO flower 2022-05-03 12:01:40,362 | server.py:323 | Using initial parameters provided by strategy\n",
      "INFO flower 2022-05-03 12:01:40,362 | server.py:130 | Evaluating initial parameters\n",
      "INFO flower 2022-05-03 12:01:40,362 | server.py:143 | FL starting\n",
      "DEBUG flower 2022-05-03 12:01:40,363 | server.py:265 | fit_round: strategy sampled 7 clients (out of 7)\n",
      "DEBUG flower 2022-05-03 12:01:48,342 | server.py:277 | fit_round received 7 results and 0 failures\n",
      "DEBUG flower 2022-05-03 12:01:48,358 | server.py:211 | evaluate_round: strategy sampled 7 clients (out of 7)\n"
     ]
    },
    {
     "name": "stdout",
     "output_type": "stream",
     "text": [
      "Saving L1 round 4 E1 aggregated_weights...\n"
     ]
    },
    {
     "name": "stderr",
     "output_type": "stream",
     "text": [
      "DEBUG flower 2022-05-03 12:01:50,130 | server.py:223 | evaluate_round received 7 results and 0 failures\n",
      "INFO flower 2022-05-03 12:01:50,130 | server.py:182 | FL finished in 9.767129099999977\n",
      "INFO flower 2022-05-03 12:01:50,131 | app.py:149 | app_fit: losses_distributed [(1, 0.6363424075037398)]\n",
      "INFO flower 2022-05-03 12:01:50,131 | app.py:150 | app_fit: metrics_distributed {}\n",
      "INFO flower 2022-05-03 12:01:50,132 | app.py:151 | app_fit: losses_centralized []\n",
      "INFO flower 2022-05-03 12:01:50,132 | app.py:152 | app_fit: metrics_centralized {}\n",
      "INFO flower 2022-05-03 12:01:54,870 | app.py:144 | Ray initialized with resources: {'GPU': 1.0, 'memory': 12265810331.0, 'node:127.0.0.1': 1.0, 'object_store_memory': 6132905164.0, 'CPU': 8.0}\n",
      "INFO flower 2022-05-03 12:01:54,871 | app.py:153 | Starting Flower simulation running: {'num_rounds': 1}\n",
      "INFO flower 2022-05-03 12:01:54,871 | server.py:128 | Initializing global parameters\n",
      "INFO flower 2022-05-03 12:01:54,871 | server.py:323 | Using initial parameters provided by strategy\n",
      "INFO flower 2022-05-03 12:01:54,872 | server.py:130 | Evaluating initial parameters\n",
      "INFO flower 2022-05-03 12:01:54,872 | server.py:143 | FL starting\n",
      "DEBUG flower 2022-05-03 12:01:54,873 | server.py:265 | fit_round: strategy sampled 7 clients (out of 7)\n",
      "DEBUG flower 2022-05-03 12:02:02,674 | server.py:277 | fit_round received 7 results and 0 failures\n",
      "DEBUG flower 2022-05-03 12:02:02,690 | server.py:211 | evaluate_round: strategy sampled 7 clients (out of 7)\n"
     ]
    },
    {
     "name": "stdout",
     "output_type": "stream",
     "text": [
      "Saving L1 round 4 E2 aggregated_weights...\n"
     ]
    },
    {
     "name": "stderr",
     "output_type": "stream",
     "text": [
      "DEBUG flower 2022-05-03 12:02:04,455 | server.py:223 | evaluate_round received 7 results and 0 failures\n",
      "INFO flower 2022-05-03 12:02:04,455 | server.py:182 | FL finished in 9.582928200000026\n",
      "INFO flower 2022-05-03 12:02:04,456 | app.py:149 | app_fit: losses_distributed [(1, 0.5859074943225665)]\n",
      "INFO flower 2022-05-03 12:02:04,456 | app.py:150 | app_fit: metrics_distributed {}\n",
      "INFO flower 2022-05-03 12:02:04,457 | app.py:151 | app_fit: losses_centralized []\n",
      "INFO flower 2022-05-03 12:02:04,457 | app.py:152 | app_fit: metrics_centralized {}\n",
      "INFO flower 2022-05-03 12:02:09,534 | app.py:144 | Ray initialized with resources: {'GPU': 1.0, 'memory': 12378137396.0, 'CPU': 8.0, 'node:127.0.0.1': 1.0, 'object_store_memory': 6189068697.0}\n",
      "INFO flower 2022-05-03 12:02:09,534 | app.py:153 | Starting Flower simulation running: {'num_rounds': 1}\n",
      "INFO flower 2022-05-03 12:02:09,535 | server.py:128 | Initializing global parameters\n",
      "INFO flower 2022-05-03 12:02:09,535 | server.py:323 | Using initial parameters provided by strategy\n",
      "INFO flower 2022-05-03 12:02:09,536 | server.py:130 | Evaluating initial parameters\n",
      "INFO flower 2022-05-03 12:02:09,536 | server.py:143 | FL starting\n",
      "DEBUG flower 2022-05-03 12:02:09,537 | server.py:265 | fit_round: strategy sampled 7 clients (out of 7)\n",
      "DEBUG flower 2022-05-03 12:02:17,257 | server.py:277 | fit_round received 7 results and 0 failures\n",
      "DEBUG flower 2022-05-03 12:02:17,273 | server.py:211 | evaluate_round: strategy sampled 7 clients (out of 7)\n"
     ]
    },
    {
     "name": "stdout",
     "output_type": "stream",
     "text": [
      "Saving L1 round 4 E3 aggregated_weights...\n"
     ]
    },
    {
     "name": "stderr",
     "output_type": "stream",
     "text": [
      "DEBUG flower 2022-05-03 12:02:18,902 | server.py:223 | evaluate_round received 7 results and 0 failures\n",
      "INFO flower 2022-05-03 12:02:18,903 | server.py:182 | FL finished in 9.366927400000009\n",
      "INFO flower 2022-05-03 12:02:18,903 | app.py:149 | app_fit: losses_distributed [(1, 0.6618931317153601)]\n",
      "INFO flower 2022-05-03 12:02:18,904 | app.py:150 | app_fit: metrics_distributed {}\n",
      "INFO flower 2022-05-03 12:02:18,904 | app.py:151 | app_fit: losses_centralized []\n",
      "INFO flower 2022-05-03 12:02:18,905 | app.py:152 | app_fit: metrics_centralized {}\n",
      "INFO flower 2022-05-03 12:02:24,173 | app.py:144 | Ray initialized with resources: {'object_store_memory': 6142003200.0, 'CPU': 8.0, 'GPU': 1.0, 'memory': 12284006400.0, 'node:127.0.0.1': 1.0}\n",
      "INFO flower 2022-05-03 12:02:24,174 | app.py:153 | Starting Flower simulation running: {'num_rounds': 1}\n",
      "INFO flower 2022-05-03 12:02:24,174 | server.py:128 | Initializing global parameters\n",
      "INFO flower 2022-05-03 12:02:24,174 | server.py:323 | Using initial parameters provided by strategy\n",
      "INFO flower 2022-05-03 12:02:24,175 | server.py:130 | Evaluating initial parameters\n",
      "INFO flower 2022-05-03 12:02:24,175 | server.py:143 | FL starting\n",
      "DEBUG flower 2022-05-03 12:02:24,176 | server.py:265 | fit_round: strategy sampled 3 clients (out of 3)\n",
      "DEBUG flower 2022-05-03 12:02:28,506 | server.py:277 | fit_round received 3 results and 0 failures\n",
      "DEBUG flower 2022-05-03 12:02:28,520 | server.py:211 | evaluate_round: strategy sampled 3 clients (out of 3)\n"
     ]
    },
    {
     "name": "stdout",
     "output_type": "stream",
     "text": [
      "Saving L2 round 4 aggregated_weights...\n"
     ]
    },
    {
     "name": "stderr",
     "output_type": "stream",
     "text": [
      "DEBUG flower 2022-05-03 12:02:34,804 | server.py:223 | evaluate_round received 3 results and 0 failures\n",
      "INFO flower 2022-05-03 12:02:34,804 | 2028186136.py:15 | round-4-EVALUATION\n",
      "INFO flower 2022-05-03 12:02:34,807 | 2028186136.py:32 | [('empresa_1', 0.5716168880462646), ('empresa_2', 0.7631133794784546), ('empresa_3', 0.45830971002578735)]\n",
      "INFO flower 2022-05-03 12:02:34,807 | 2028186136.py:38 | Aggregated accuracy: 0.5976799925168356 +- 0.12579290729590872\n",
      "INFO flower 2022-05-03 12:02:34,808 | server.py:182 | FL finished in 10.631581100000005\n",
      "INFO flower 2022-05-03 12:02:34,808 | app.py:149 | app_fit: losses_distributed [(1, 0.638426288357293)]\n",
      "INFO flower 2022-05-03 12:02:34,808 | app.py:150 | app_fit: metrics_distributed {}\n",
      "INFO flower 2022-05-03 12:02:34,809 | app.py:151 | app_fit: losses_centralized []\n",
      "INFO flower 2022-05-03 12:02:34,809 | app.py:152 | app_fit: metrics_centralized {}\n",
      "INFO flower 2022-05-03 12:02:40,241 | app.py:144 | Ray initialized with resources: {'CPU': 8.0, 'node:127.0.0.1': 1.0, 'object_store_memory': 6167075635.0, 'GPU': 1.0, 'memory': 12334151271.0}\n",
      "INFO flower 2022-05-03 12:02:40,242 | app.py:153 | Starting Flower simulation running: {'num_rounds': 1}\n",
      "INFO flower 2022-05-03 12:02:40,242 | server.py:128 | Initializing global parameters\n",
      "INFO flower 2022-05-03 12:02:40,243 | server.py:323 | Using initial parameters provided by strategy\n",
      "INFO flower 2022-05-03 12:02:40,244 | server.py:130 | Evaluating initial parameters\n",
      "INFO flower 2022-05-03 12:02:40,244 | server.py:143 | FL starting\n",
      "DEBUG flower 2022-05-03 12:02:40,244 | server.py:265 | fit_round: strategy sampled 7 clients (out of 7)\n",
      "DEBUG flower 2022-05-03 12:02:48,608 | server.py:277 | fit_round received 7 results and 0 failures\n",
      "DEBUG flower 2022-05-03 12:02:48,624 | server.py:211 | evaluate_round: strategy sampled 7 clients (out of 7)\n"
     ]
    },
    {
     "name": "stdout",
     "output_type": "stream",
     "text": [
      "Saving L1 round 5 E1 aggregated_weights...\n"
     ]
    },
    {
     "name": "stderr",
     "output_type": "stream",
     "text": [
      "DEBUG flower 2022-05-03 12:02:50,415 | server.py:223 | evaluate_round received 7 results and 0 failures\n",
      "INFO flower 2022-05-03 12:02:50,416 | server.py:182 | FL finished in 10.171252900000013\n",
      "INFO flower 2022-05-03 12:02:50,416 | app.py:149 | app_fit: losses_distributed [(1, 0.6270145341780148)]\n",
      "INFO flower 2022-05-03 12:02:50,417 | app.py:150 | app_fit: metrics_distributed {}\n",
      "INFO flower 2022-05-03 12:02:50,417 | app.py:151 | app_fit: losses_centralized []\n",
      "INFO flower 2022-05-03 12:02:50,417 | app.py:152 | app_fit: metrics_centralized {}\n",
      "INFO flower 2022-05-03 12:02:55,838 | app.py:144 | Ray initialized with resources: {'GPU': 1.0, 'memory': 11068344731.0, 'CPU': 8.0, 'node:127.0.0.1': 1.0, 'object_store_memory': 5534172364.0}\n",
      "INFO flower 2022-05-03 12:02:55,838 | app.py:153 | Starting Flower simulation running: {'num_rounds': 1}\n",
      "INFO flower 2022-05-03 12:02:55,839 | server.py:128 | Initializing global parameters\n",
      "INFO flower 2022-05-03 12:02:55,839 | server.py:323 | Using initial parameters provided by strategy\n",
      "INFO flower 2022-05-03 12:02:55,840 | server.py:130 | Evaluating initial parameters\n",
      "INFO flower 2022-05-03 12:02:55,840 | server.py:143 | FL starting\n",
      "DEBUG flower 2022-05-03 12:02:55,840 | server.py:265 | fit_round: strategy sampled 7 clients (out of 7)\n",
      "DEBUG flower 2022-05-03 12:03:03,725 | server.py:277 | fit_round received 7 results and 0 failures\n",
      "DEBUG flower 2022-05-03 12:03:03,741 | server.py:211 | evaluate_round: strategy sampled 7 clients (out of 7)\n"
     ]
    },
    {
     "name": "stdout",
     "output_type": "stream",
     "text": [
      "Saving L1 round 5 E2 aggregated_weights...\n"
     ]
    },
    {
     "name": "stderr",
     "output_type": "stream",
     "text": [
      "DEBUG flower 2022-05-03 12:03:05,480 | server.py:223 | evaluate_round received 7 results and 0 failures\n",
      "INFO flower 2022-05-03 12:03:05,480 | server.py:182 | FL finished in 9.64022399999999\n",
      "INFO flower 2022-05-03 12:03:05,481 | app.py:149 | app_fit: losses_distributed [(1, 0.5725306674241347)]\n",
      "INFO flower 2022-05-03 12:03:05,481 | app.py:150 | app_fit: metrics_distributed {}\n",
      "INFO flower 2022-05-03 12:03:05,481 | app.py:151 | app_fit: losses_centralized []\n",
      "INFO flower 2022-05-03 12:03:05,481 | app.py:152 | app_fit: metrics_centralized {}\n",
      "INFO flower 2022-05-03 12:03:10,506 | app.py:144 | Ray initialized with resources: {'CPU': 8.0, 'object_store_memory': 6220095897.0, 'GPU': 1.0, 'memory': 12440191796.0, 'node:127.0.0.1': 1.0}\n",
      "INFO flower 2022-05-03 12:03:10,507 | app.py:153 | Starting Flower simulation running: {'num_rounds': 1}\n",
      "INFO flower 2022-05-03 12:03:10,508 | server.py:128 | Initializing global parameters\n",
      "INFO flower 2022-05-03 12:03:10,508 | server.py:323 | Using initial parameters provided by strategy\n",
      "INFO flower 2022-05-03 12:03:10,508 | server.py:130 | Evaluating initial parameters\n",
      "INFO flower 2022-05-03 12:03:10,509 | server.py:143 | FL starting\n",
      "DEBUG flower 2022-05-03 12:03:10,509 | server.py:265 | fit_round: strategy sampled 7 clients (out of 7)\n",
      "DEBUG flower 2022-05-03 12:03:18,205 | server.py:277 | fit_round received 7 results and 0 failures\n",
      "DEBUG flower 2022-05-03 12:03:18,221 | server.py:211 | evaluate_round: strategy sampled 7 clients (out of 7)\n"
     ]
    },
    {
     "name": "stdout",
     "output_type": "stream",
     "text": [
      "Saving L1 round 5 E3 aggregated_weights...\n"
     ]
    },
    {
     "name": "stderr",
     "output_type": "stream",
     "text": [
      "DEBUG flower 2022-05-03 12:03:19,848 | server.py:223 | evaluate_round received 7 results and 0 failures\n",
      "INFO flower 2022-05-03 12:03:19,849 | server.py:182 | FL finished in 9.339165200000025\n",
      "INFO flower 2022-05-03 12:03:19,849 | app.py:149 | app_fit: losses_distributed [(1, 0.6528158926585149)]\n",
      "INFO flower 2022-05-03 12:03:19,849 | app.py:150 | app_fit: metrics_distributed {}\n",
      "INFO flower 2022-05-03 12:03:19,850 | app.py:151 | app_fit: losses_centralized []\n",
      "INFO flower 2022-05-03 12:03:19,850 | app.py:152 | app_fit: metrics_centralized {}\n",
      "INFO flower 2022-05-03 12:03:25,103 | app.py:144 | Ray initialized with resources: {'memory': 12307279872.0, 'CPU': 8.0, 'object_store_memory': 6153639936.0, 'GPU': 1.0, 'node:127.0.0.1': 1.0}\n",
      "INFO flower 2022-05-03 12:03:25,103 | app.py:153 | Starting Flower simulation running: {'num_rounds': 1}\n",
      "INFO flower 2022-05-03 12:03:25,104 | server.py:128 | Initializing global parameters\n",
      "INFO flower 2022-05-03 12:03:25,104 | server.py:323 | Using initial parameters provided by strategy\n",
      "INFO flower 2022-05-03 12:03:25,105 | server.py:130 | Evaluating initial parameters\n",
      "INFO flower 2022-05-03 12:03:25,105 | server.py:143 | FL starting\n",
      "DEBUG flower 2022-05-03 12:03:25,105 | server.py:265 | fit_round: strategy sampled 3 clients (out of 3)\n",
      "DEBUG flower 2022-05-03 12:03:29,394 | server.py:277 | fit_round received 3 results and 0 failures\n",
      "DEBUG flower 2022-05-03 12:03:29,401 | server.py:211 | evaluate_round: strategy sampled 3 clients (out of 3)\n"
     ]
    },
    {
     "name": "stdout",
     "output_type": "stream",
     "text": [
      "Saving L2 round 5 aggregated_weights...\n"
     ]
    },
    {
     "name": "stderr",
     "output_type": "stream",
     "text": [
      "DEBUG flower 2022-05-03 12:03:35,757 | server.py:223 | evaluate_round received 3 results and 0 failures\n",
      "INFO flower 2022-05-03 12:03:35,757 | 2028186136.py:15 | round-5-EVALUATION\n",
      "INFO flower 2022-05-03 12:03:35,762 | 2028186136.py:32 | [('empresa_1', 0.5812829732894897), ('empresa_2', 0.7648054361343384), ('empresa_3', 0.47589337825775146)]\n",
      "INFO flower 2022-05-03 12:03:35,762 | 2028186136.py:38 | Aggregated accuracy: 0.6073272625605265 +- 0.11937691862149946\n",
      "INFO flower 2022-05-03 12:03:35,763 | server.py:182 | FL finished in 10.65651539999999\n",
      "INFO flower 2022-05-03 12:03:35,763 | app.py:149 | app_fit: losses_distributed [(1, 0.6290410493294781)]\n",
      "INFO flower 2022-05-03 12:03:35,764 | app.py:150 | app_fit: metrics_distributed {}\n",
      "INFO flower 2022-05-03 12:03:35,764 | app.py:151 | app_fit: losses_centralized []\n",
      "INFO flower 2022-05-03 12:03:35,765 | app.py:152 | app_fit: metrics_centralized {}\n",
      "INFO flower 2022-05-03 12:03:41,093 | app.py:144 | Ray initialized with resources: {'memory': 8263834830.0, 'CPU': 8.0, 'object_store_memory': 4131917414.0, 'GPU': 1.0, 'node:127.0.0.1': 1.0}\n",
      "INFO flower 2022-05-03 12:03:41,093 | app.py:153 | Starting Flower simulation running: {'num_rounds': 1}\n",
      "INFO flower 2022-05-03 12:03:41,094 | server.py:128 | Initializing global parameters\n",
      "INFO flower 2022-05-03 12:03:41,094 | server.py:323 | Using initial parameters provided by strategy\n",
      "INFO flower 2022-05-03 12:03:41,094 | server.py:130 | Evaluating initial parameters\n",
      "INFO flower 2022-05-03 12:03:41,094 | server.py:143 | FL starting\n",
      "DEBUG flower 2022-05-03 12:03:41,095 | server.py:265 | fit_round: strategy sampled 7 clients (out of 7)\n",
      "DEBUG flower 2022-05-03 12:03:49,168 | server.py:277 | fit_round received 7 results and 0 failures\n",
      "DEBUG flower 2022-05-03 12:03:49,184 | server.py:211 | evaluate_round: strategy sampled 7 clients (out of 7)\n"
     ]
    },
    {
     "name": "stdout",
     "output_type": "stream",
     "text": [
      "Saving L1 round 6 E1 aggregated_weights...\n"
     ]
    },
    {
     "name": "stderr",
     "output_type": "stream",
     "text": [
      "DEBUG flower 2022-05-03 12:03:50,961 | server.py:223 | evaluate_round received 7 results and 0 failures\n",
      "INFO flower 2022-05-03 12:03:50,962 | server.py:182 | FL finished in 9.867638999999997\n",
      "INFO flower 2022-05-03 12:03:50,963 | app.py:149 | app_fit: losses_distributed [(1, 0.6185145361614144)]\n",
      "INFO flower 2022-05-03 12:03:50,963 | app.py:150 | app_fit: metrics_distributed {}\n",
      "INFO flower 2022-05-03 12:03:50,963 | app.py:151 | app_fit: losses_centralized []\n",
      "INFO flower 2022-05-03 12:03:50,964 | app.py:152 | app_fit: metrics_centralized {}\n",
      "INFO flower 2022-05-03 12:03:55,912 | app.py:144 | Ray initialized with resources: {'memory': 12374839296.0, 'node:127.0.0.1': 1.0, 'object_store_memory': 6187419648.0, 'CPU': 8.0, 'GPU': 1.0}\n",
      "INFO flower 2022-05-03 12:03:55,912 | app.py:153 | Starting Flower simulation running: {'num_rounds': 1}\n",
      "INFO flower 2022-05-03 12:03:55,913 | server.py:128 | Initializing global parameters\n",
      "INFO flower 2022-05-03 12:03:55,913 | server.py:323 | Using initial parameters provided by strategy\n",
      "INFO flower 2022-05-03 12:03:55,913 | server.py:130 | Evaluating initial parameters\n",
      "INFO flower 2022-05-03 12:03:55,914 | server.py:143 | FL starting\n",
      "DEBUG flower 2022-05-03 12:03:55,914 | server.py:265 | fit_round: strategy sampled 7 clients (out of 7)\n",
      "DEBUG flower 2022-05-03 12:04:03,664 | server.py:277 | fit_round received 7 results and 0 failures\n",
      "DEBUG flower 2022-05-03 12:04:03,687 | server.py:211 | evaluate_round: strategy sampled 7 clients (out of 7)\n"
     ]
    },
    {
     "name": "stdout",
     "output_type": "stream",
     "text": [
      "Saving L1 round 6 E2 aggregated_weights...\n"
     ]
    },
    {
     "name": "stderr",
     "output_type": "stream",
     "text": [
      "DEBUG flower 2022-05-03 12:04:05,432 | server.py:223 | evaluate_round received 7 results and 0 failures\n",
      "INFO flower 2022-05-03 12:04:05,432 | server.py:182 | FL finished in 9.518848900000023\n",
      "INFO flower 2022-05-03 12:04:05,433 | app.py:149 | app_fit: losses_distributed [(1, 0.5602954778036557)]\n",
      "INFO flower 2022-05-03 12:04:05,433 | app.py:150 | app_fit: metrics_distributed {}\n",
      "INFO flower 2022-05-03 12:04:05,434 | app.py:151 | app_fit: losses_centralized []\n",
      "INFO flower 2022-05-03 12:04:05,434 | app.py:152 | app_fit: metrics_centralized {}\n",
      "INFO flower 2022-05-03 12:04:10,619 | app.py:144 | Ray initialized with resources: {'node:127.0.0.1': 1.0, 'GPU': 1.0, 'memory': 12310924494.0, 'object_store_memory': 6155462246.0, 'CPU': 8.0}\n",
      "INFO flower 2022-05-03 12:04:10,620 | app.py:153 | Starting Flower simulation running: {'num_rounds': 1}\n",
      "INFO flower 2022-05-03 12:04:10,620 | server.py:128 | Initializing global parameters\n",
      "INFO flower 2022-05-03 12:04:10,621 | server.py:323 | Using initial parameters provided by strategy\n",
      "INFO flower 2022-05-03 12:04:10,621 | server.py:130 | Evaluating initial parameters\n",
      "INFO flower 2022-05-03 12:04:10,622 | server.py:143 | FL starting\n",
      "DEBUG flower 2022-05-03 12:04:10,622 | server.py:265 | fit_round: strategy sampled 7 clients (out of 7)\n",
      "DEBUG flower 2022-05-03 12:04:18,362 | server.py:277 | fit_round received 7 results and 0 failures\n",
      "DEBUG flower 2022-05-03 12:04:18,379 | server.py:211 | evaluate_round: strategy sampled 7 clients (out of 7)\n"
     ]
    },
    {
     "name": "stdout",
     "output_type": "stream",
     "text": [
      "Saving L1 round 6 E3 aggregated_weights...\n"
     ]
    },
    {
     "name": "stderr",
     "output_type": "stream",
     "text": [
      "DEBUG flower 2022-05-03 12:04:20,009 | server.py:223 | evaluate_round received 7 results and 0 failures\n",
      "INFO flower 2022-05-03 12:04:20,010 | server.py:182 | FL finished in 9.387787100000025\n",
      "INFO flower 2022-05-03 12:04:20,010 | app.py:149 | app_fit: losses_distributed [(1, 0.6440844368136748)]\n",
      "INFO flower 2022-05-03 12:04:20,010 | app.py:150 | app_fit: metrics_distributed {}\n",
      "INFO flower 2022-05-03 12:04:20,011 | app.py:151 | app_fit: losses_centralized []\n",
      "INFO flower 2022-05-03 12:04:20,011 | app.py:152 | app_fit: metrics_centralized {}\n",
      "INFO flower 2022-05-03 12:04:25,311 | app.py:144 | Ray initialized with resources: {'node:127.0.0.1': 1.0, 'object_store_memory': 6218274816.0, 'CPU': 8.0, 'GPU': 1.0, 'memory': 12436549632.0}\n",
      "INFO flower 2022-05-03 12:04:25,312 | app.py:153 | Starting Flower simulation running: {'num_rounds': 1}\n",
      "INFO flower 2022-05-03 12:04:25,312 | server.py:128 | Initializing global parameters\n",
      "INFO flower 2022-05-03 12:04:25,313 | server.py:323 | Using initial parameters provided by strategy\n",
      "INFO flower 2022-05-03 12:04:25,313 | server.py:130 | Evaluating initial parameters\n",
      "INFO flower 2022-05-03 12:04:25,313 | server.py:143 | FL starting\n",
      "DEBUG flower 2022-05-03 12:04:25,314 | server.py:265 | fit_round: strategy sampled 3 clients (out of 3)\n",
      "DEBUG flower 2022-05-03 12:04:29,658 | server.py:277 | fit_round received 3 results and 0 failures\n",
      "DEBUG flower 2022-05-03 12:04:29,673 | server.py:211 | evaluate_round: strategy sampled 3 clients (out of 3)\n"
     ]
    },
    {
     "name": "stdout",
     "output_type": "stream",
     "text": [
      "Saving L2 round 6 aggregated_weights...\n"
     ]
    },
    {
     "name": "stderr",
     "output_type": "stream",
     "text": [
      "DEBUG flower 2022-05-03 12:04:35,985 | server.py:223 | evaluate_round received 3 results and 0 failures\n",
      "INFO flower 2022-05-03 12:04:35,986 | 2028186136.py:15 | round-6-EVALUATION\n",
      "INFO flower 2022-05-03 12:04:35,988 | 2028186136.py:32 | [('empresa_1', 0.5940245985984802), ('empresa_2', 0.7659334540367126), ('empresa_3', 0.49120816588401794)]\n",
      "INFO flower 2022-05-03 12:04:35,988 | 2028186136.py:38 | Aggregated accuracy: 0.6170554061730703 +- 0.11333228301708985\n",
      "INFO flower 2022-05-03 12:04:35,989 | server.py:182 | FL finished in 10.675666700000022\n",
      "INFO flower 2022-05-03 12:04:35,989 | app.py:149 | app_fit: losses_distributed [(1, 0.6204302938474267)]\n",
      "INFO flower 2022-05-03 12:04:35,990 | app.py:150 | app_fit: metrics_distributed {}\n",
      "INFO flower 2022-05-03 12:04:35,990 | app.py:151 | app_fit: losses_centralized []\n",
      "INFO flower 2022-05-03 12:04:35,990 | app.py:152 | app_fit: metrics_centralized {}\n",
      "INFO flower 2022-05-03 12:04:41,200 | app.py:144 | Ray initialized with resources: {'GPU': 1.0, 'memory': 8238123419.0, 'node:127.0.0.1': 1.0, 'CPU': 8.0, 'object_store_memory': 4119061708.0}\n",
      "INFO flower 2022-05-03 12:04:41,200 | app.py:153 | Starting Flower simulation running: {'num_rounds': 1}\n",
      "INFO flower 2022-05-03 12:04:41,201 | server.py:128 | Initializing global parameters\n",
      "INFO flower 2022-05-03 12:04:41,201 | server.py:323 | Using initial parameters provided by strategy\n",
      "INFO flower 2022-05-03 12:04:41,201 | server.py:130 | Evaluating initial parameters\n",
      "INFO flower 2022-05-03 12:04:41,202 | server.py:143 | FL starting\n",
      "DEBUG flower 2022-05-03 12:04:41,202 | server.py:265 | fit_round: strategy sampled 7 clients (out of 7)\n",
      "DEBUG flower 2022-05-03 12:04:49,499 | server.py:277 | fit_round received 7 results and 0 failures\n",
      "DEBUG flower 2022-05-03 12:04:49,516 | server.py:211 | evaluate_round: strategy sampled 7 clients (out of 7)\n"
     ]
    },
    {
     "name": "stdout",
     "output_type": "stream",
     "text": [
      "Saving L1 round 7 E1 aggregated_weights...\n"
     ]
    },
    {
     "name": "stderr",
     "output_type": "stream",
     "text": [
      "DEBUG flower 2022-05-03 12:04:51,305 | server.py:223 | evaluate_round received 7 results and 0 failures\n",
      "INFO flower 2022-05-03 12:04:51,306 | server.py:182 | FL finished in 10.103826500000025\n",
      "INFO flower 2022-05-03 12:04:51,306 | app.py:149 | app_fit: losses_distributed [(1, 0.6110006063286156)]\n",
      "INFO flower 2022-05-03 12:04:51,306 | app.py:150 | app_fit: metrics_distributed {}\n",
      "INFO flower 2022-05-03 12:04:51,307 | app.py:151 | app_fit: losses_centralized []\n",
      "INFO flower 2022-05-03 12:04:51,307 | app.py:152 | app_fit: metrics_centralized {}\n",
      "INFO flower 2022-05-03 12:04:56,857 | app.py:144 | Ray initialized with resources: {'CPU': 8.0, 'GPU': 1.0, 'memory': 12429538100.0, 'node:127.0.0.1': 1.0, 'object_store_memory': 6214769049.0}\n",
      "INFO flower 2022-05-03 12:04:56,857 | app.py:153 | Starting Flower simulation running: {'num_rounds': 1}\n",
      "INFO flower 2022-05-03 12:04:56,857 | server.py:128 | Initializing global parameters\n",
      "INFO flower 2022-05-03 12:04:56,858 | server.py:323 | Using initial parameters provided by strategy\n",
      "INFO flower 2022-05-03 12:04:56,858 | server.py:130 | Evaluating initial parameters\n",
      "INFO flower 2022-05-03 12:04:56,859 | server.py:143 | FL starting\n",
      "DEBUG flower 2022-05-03 12:04:56,859 | server.py:265 | fit_round: strategy sampled 7 clients (out of 7)\n",
      "DEBUG flower 2022-05-03 12:05:04,666 | server.py:277 | fit_round received 7 results and 0 failures\n",
      "DEBUG flower 2022-05-03 12:05:04,683 | server.py:211 | evaluate_round: strategy sampled 7 clients (out of 7)\n"
     ]
    },
    {
     "name": "stdout",
     "output_type": "stream",
     "text": [
      "Saving L1 round 7 E2 aggregated_weights...\n"
     ]
    },
    {
     "name": "stderr",
     "output_type": "stream",
     "text": [
      "DEBUG flower 2022-05-03 12:05:06,416 | server.py:223 | evaluate_round received 7 results and 0 failures\n",
      "INFO flower 2022-05-03 12:05:06,416 | server.py:182 | FL finished in 9.556837099999996\n",
      "INFO flower 2022-05-03 12:05:06,417 | app.py:149 | app_fit: losses_distributed [(1, 0.5490633426113312)]\n",
      "INFO flower 2022-05-03 12:05:06,417 | app.py:150 | app_fit: metrics_distributed {}\n",
      "INFO flower 2022-05-03 12:05:06,417 | app.py:151 | app_fit: losses_centralized []\n",
      "INFO flower 2022-05-03 12:05:06,418 | app.py:152 | app_fit: metrics_centralized {}\n",
      "INFO flower 2022-05-03 12:05:11,435 | app.py:144 | Ray initialized with resources: {'GPU': 1.0, 'node:127.0.0.1': 1.0, 'memory': 12429474203.0, 'CPU': 8.0, 'object_store_memory': 6214737100.0}\n",
      "INFO flower 2022-05-03 12:05:11,436 | app.py:153 | Starting Flower simulation running: {'num_rounds': 1}\n",
      "INFO flower 2022-05-03 12:05:11,436 | server.py:128 | Initializing global parameters\n",
      "INFO flower 2022-05-03 12:05:11,437 | server.py:323 | Using initial parameters provided by strategy\n",
      "INFO flower 2022-05-03 12:05:11,437 | server.py:130 | Evaluating initial parameters\n",
      "INFO flower 2022-05-03 12:05:11,438 | server.py:143 | FL starting\n",
      "DEBUG flower 2022-05-03 12:05:11,438 | server.py:265 | fit_round: strategy sampled 7 clients (out of 7)\n",
      "DEBUG flower 2022-05-03 12:05:19,296 | server.py:277 | fit_round received 7 results and 0 failures\n",
      "DEBUG flower 2022-05-03 12:05:19,319 | server.py:211 | evaluate_round: strategy sampled 7 clients (out of 7)\n"
     ]
    },
    {
     "name": "stdout",
     "output_type": "stream",
     "text": [
      "Saving L1 round 7 E3 aggregated_weights...\n"
     ]
    },
    {
     "name": "stderr",
     "output_type": "stream",
     "text": [
      "DEBUG flower 2022-05-03 12:05:20,958 | server.py:223 | evaluate_round received 7 results and 0 failures\n",
      "INFO flower 2022-05-03 12:05:20,959 | server.py:182 | FL finished in 9.520463399999983\n",
      "INFO flower 2022-05-03 12:05:20,959 | app.py:149 | app_fit: losses_distributed [(1, 0.6357300645981874)]\n",
      "INFO flower 2022-05-03 12:05:20,959 | app.py:150 | app_fit: metrics_distributed {}\n",
      "INFO flower 2022-05-03 12:05:20,960 | app.py:151 | app_fit: losses_centralized []\n",
      "INFO flower 2022-05-03 12:05:20,960 | app.py:152 | app_fit: metrics_centralized {}\n",
      "INFO flower 2022-05-03 12:05:25,771 | app.py:144 | Ray initialized with resources: {'node:127.0.0.1': 1.0, 'CPU': 8.0, 'object_store_memory': 6217616179.0, 'GPU': 1.0, 'memory': 12435232359.0}\n",
      "INFO flower 2022-05-03 12:05:25,771 | app.py:153 | Starting Flower simulation running: {'num_rounds': 1}\n",
      "INFO flower 2022-05-03 12:05:25,771 | server.py:128 | Initializing global parameters\n",
      "INFO flower 2022-05-03 12:05:25,772 | server.py:323 | Using initial parameters provided by strategy\n",
      "INFO flower 2022-05-03 12:05:25,772 | server.py:130 | Evaluating initial parameters\n",
      "INFO flower 2022-05-03 12:05:25,772 | server.py:143 | FL starting\n",
      "DEBUG flower 2022-05-03 12:05:25,773 | server.py:265 | fit_round: strategy sampled 3 clients (out of 3)\n",
      "DEBUG flower 2022-05-03 12:05:29,941 | server.py:277 | fit_round received 3 results and 0 failures\n",
      "DEBUG flower 2022-05-03 12:05:29,956 | server.py:211 | evaluate_round: strategy sampled 3 clients (out of 3)\n"
     ]
    },
    {
     "name": "stdout",
     "output_type": "stream",
     "text": [
      "Saving L2 round 7 aggregated_weights...\n"
     ]
    },
    {
     "name": "stderr",
     "output_type": "stream",
     "text": [
      "DEBUG flower 2022-05-03 12:05:36,252 | server.py:223 | evaluate_round received 3 results and 0 failures\n",
      "INFO flower 2022-05-03 12:05:36,252 | 2028186136.py:15 | round-7-EVALUATION\n",
      "INFO flower 2022-05-03 12:05:36,255 | 2028186136.py:32 | [('empresa_1', 0.5935852527618408), ('empresa_2', 0.7602933049201965), ('empresa_3', 0.5150312185287476)]\n",
      "INFO flower 2022-05-03 12:05:36,255 | 2028186136.py:38 | Aggregated accuracy: 0.622969925403595 +- 0.10226099613234407\n",
      "INFO flower 2022-05-03 12:05:36,256 | server.py:182 | FL finished in 10.483244699999887\n",
      "INFO flower 2022-05-03 12:05:36,256 | app.py:149 | app_fit: losses_distributed [(1, 0.6126218941588281)]\n",
      "INFO flower 2022-05-03 12:05:36,256 | app.py:150 | app_fit: metrics_distributed {}\n",
      "INFO flower 2022-05-03 12:05:36,257 | app.py:151 | app_fit: losses_centralized []\n",
      "INFO flower 2022-05-03 12:05:36,257 | app.py:152 | app_fit: metrics_centralized {}\n",
      "INFO flower 2022-05-03 12:05:41,398 | app.py:144 | Ray initialized with resources: {'node:127.0.0.1': 1.0, 'GPU': 1.0, 'memory': 12418169243.0, 'object_store_memory': 6209084620.0, 'CPU': 8.0}\n",
      "INFO flower 2022-05-03 12:05:41,399 | app.py:153 | Starting Flower simulation running: {'num_rounds': 1}\n",
      "INFO flower 2022-05-03 12:05:41,399 | server.py:128 | Initializing global parameters\n",
      "INFO flower 2022-05-03 12:05:41,399 | server.py:323 | Using initial parameters provided by strategy\n",
      "INFO flower 2022-05-03 12:05:41,399 | server.py:130 | Evaluating initial parameters\n",
      "INFO flower 2022-05-03 12:05:41,400 | server.py:143 | FL starting\n",
      "DEBUG flower 2022-05-03 12:05:41,401 | server.py:265 | fit_round: strategy sampled 7 clients (out of 7)\n",
      "DEBUG flower 2022-05-03 12:05:49,441 | server.py:277 | fit_round received 7 results and 0 failures\n",
      "DEBUG flower 2022-05-03 12:05:49,457 | server.py:211 | evaluate_round: strategy sampled 7 clients (out of 7)\n"
     ]
    },
    {
     "name": "stdout",
     "output_type": "stream",
     "text": [
      "Saving L1 round 8 E1 aggregated_weights...\n"
     ]
    },
    {
     "name": "stderr",
     "output_type": "stream",
     "text": [
      "DEBUG flower 2022-05-03 12:05:51,239 | server.py:223 | evaluate_round received 7 results and 0 failures\n",
      "INFO flower 2022-05-03 12:05:51,239 | server.py:182 | FL finished in 9.83795299999997\n",
      "INFO flower 2022-05-03 12:05:51,240 | app.py:149 | app_fit: losses_distributed [(1, 0.6045029958700254)]\n",
      "INFO flower 2022-05-03 12:05:51,240 | app.py:150 | app_fit: metrics_distributed {}\n",
      "INFO flower 2022-05-03 12:05:51,240 | app.py:151 | app_fit: losses_centralized []\n",
      "INFO flower 2022-05-03 12:05:51,241 | app.py:152 | app_fit: metrics_centralized {}\n",
      "INFO flower 2022-05-03 12:05:56,009 | app.py:144 | Ray initialized with resources: {'CPU': 8.0, 'object_store_memory': 6216312422.0, 'GPU': 1.0, 'memory': 12432624846.0, 'node:127.0.0.1': 1.0}\n",
      "INFO flower 2022-05-03 12:05:56,009 | app.py:153 | Starting Flower simulation running: {'num_rounds': 1}\n",
      "INFO flower 2022-05-03 12:05:56,010 | server.py:128 | Initializing global parameters\n",
      "INFO flower 2022-05-03 12:05:56,010 | server.py:323 | Using initial parameters provided by strategy\n",
      "INFO flower 2022-05-03 12:05:56,011 | server.py:130 | Evaluating initial parameters\n",
      "INFO flower 2022-05-03 12:05:56,011 | server.py:143 | FL starting\n",
      "DEBUG flower 2022-05-03 12:05:56,012 | server.py:265 | fit_round: strategy sampled 7 clients (out of 7)\n",
      "DEBUG flower 2022-05-03 12:06:03,863 | server.py:277 | fit_round received 7 results and 0 failures\n",
      "DEBUG flower 2022-05-03 12:06:03,886 | server.py:211 | evaluate_round: strategy sampled 7 clients (out of 7)\n"
     ]
    },
    {
     "name": "stdout",
     "output_type": "stream",
     "text": [
      "Saving L1 round 8 E2 aggregated_weights...\n"
     ]
    },
    {
     "name": "stderr",
     "output_type": "stream",
     "text": [
      "DEBUG flower 2022-05-03 12:06:05,634 | server.py:223 | evaluate_round received 7 results and 0 failures\n",
      "INFO flower 2022-05-03 12:06:05,635 | server.py:182 | FL finished in 9.623880900000017\n",
      "INFO flower 2022-05-03 12:06:05,635 | app.py:149 | app_fit: losses_distributed [(1, 0.5387371589555219)]\n",
      "INFO flower 2022-05-03 12:06:05,636 | app.py:150 | app_fit: metrics_distributed {}\n",
      "INFO flower 2022-05-03 12:06:05,636 | app.py:151 | app_fit: losses_centralized []\n",
      "INFO flower 2022-05-03 12:06:05,636 | app.py:152 | app_fit: metrics_centralized {}\n",
      "INFO flower 2022-05-03 12:06:10,819 | app.py:144 | Ray initialized with resources: {'GPU': 1.0, 'memory': 12383052596.0, 'CPU': 8.0, 'node:127.0.0.1': 1.0, 'object_store_memory': 6191526297.0}\n",
      "INFO flower 2022-05-03 12:06:10,820 | app.py:153 | Starting Flower simulation running: {'num_rounds': 1}\n",
      "INFO flower 2022-05-03 12:06:10,820 | server.py:128 | Initializing global parameters\n",
      "INFO flower 2022-05-03 12:06:10,820 | server.py:323 | Using initial parameters provided by strategy\n",
      "INFO flower 2022-05-03 12:06:10,821 | server.py:130 | Evaluating initial parameters\n",
      "INFO flower 2022-05-03 12:06:10,822 | server.py:143 | FL starting\n",
      "DEBUG flower 2022-05-03 12:06:10,822 | server.py:265 | fit_round: strategy sampled 7 clients (out of 7)\n",
      "DEBUG flower 2022-05-03 12:06:18,534 | server.py:277 | fit_round received 7 results and 0 failures\n",
      "DEBUG flower 2022-05-03 12:06:18,550 | server.py:211 | evaluate_round: strategy sampled 7 clients (out of 7)\n"
     ]
    },
    {
     "name": "stdout",
     "output_type": "stream",
     "text": [
      "Saving L1 round 8 E3 aggregated_weights...\n"
     ]
    },
    {
     "name": "stderr",
     "output_type": "stream",
     "text": [
      "DEBUG flower 2022-05-03 12:06:20,189 | server.py:223 | evaluate_round received 7 results and 0 failures\n",
      "INFO flower 2022-05-03 12:06:20,189 | server.py:182 | FL finished in 9.367042999999967\n",
      "INFO flower 2022-05-03 12:06:20,189 | app.py:149 | app_fit: losses_distributed [(1, 0.6278838285720963)]\n",
      "INFO flower 2022-05-03 12:06:20,190 | app.py:150 | app_fit: metrics_distributed {}\n",
      "INFO flower 2022-05-03 12:06:20,190 | app.py:151 | app_fit: losses_centralized []\n",
      "INFO flower 2022-05-03 12:06:20,190 | app.py:152 | app_fit: metrics_centralized {}\n",
      "INFO flower 2022-05-03 12:06:25,390 | app.py:144 | Ray initialized with resources: {'GPU': 1.0, 'memory': 12407112500.0, 'CPU': 8.0, 'node:127.0.0.1': 1.0, 'object_store_memory': 6203556249.0}\n",
      "INFO flower 2022-05-03 12:06:25,393 | app.py:153 | Starting Flower simulation running: {'num_rounds': 1}\n",
      "INFO flower 2022-05-03 12:06:25,394 | server.py:128 | Initializing global parameters\n",
      "INFO flower 2022-05-03 12:06:25,395 | server.py:323 | Using initial parameters provided by strategy\n",
      "INFO flower 2022-05-03 12:06:25,396 | server.py:130 | Evaluating initial parameters\n",
      "INFO flower 2022-05-03 12:06:25,397 | server.py:143 | FL starting\n",
      "DEBUG flower 2022-05-03 12:06:25,398 | server.py:265 | fit_round: strategy sampled 3 clients (out of 3)\n",
      "DEBUG flower 2022-05-03 12:06:29,148 | server.py:277 | fit_round received 3 results and 0 failures\n",
      "DEBUG flower 2022-05-03 12:06:29,157 | server.py:211 | evaluate_round: strategy sampled 3 clients (out of 3)\n"
     ]
    },
    {
     "name": "stdout",
     "output_type": "stream",
     "text": [
      "Saving L2 round 8 aggregated_weights...\n"
     ]
    },
    {
     "name": "stderr",
     "output_type": "stream",
     "text": [
      "DEBUG flower 2022-05-03 12:06:33,030 | server.py:223 | evaluate_round received 3 results and 0 failures\n",
      "INFO flower 2022-05-03 12:06:33,031 | 2028186136.py:15 | round-8-EVALUATION\n",
      "INFO flower 2022-05-03 12:06:33,033 | 2028186136.py:32 | [('empresa_1', 0.6014938354492188), ('empresa_2', 0.7625493407249451), ('empresa_3', 0.5360181331634521)]\n",
      "INFO flower 2022-05-03 12:06:33,033 | 2028186136.py:38 | Aggregated accuracy: 0.6333537697792053 +- 0.095185393002114\n",
      "INFO flower 2022-05-03 12:06:33,034 | server.py:182 | FL finished in 7.63596009999992\n",
      "INFO flower 2022-05-03 12:06:33,034 | app.py:149 | app_fit: losses_distributed [(1, 0.6056853162569583)]\n",
      "INFO flower 2022-05-03 12:06:33,035 | app.py:150 | app_fit: metrics_distributed {}\n",
      "INFO flower 2022-05-03 12:06:33,035 | app.py:151 | app_fit: losses_centralized []\n",
      "INFO flower 2022-05-03 12:06:33,035 | app.py:152 | app_fit: metrics_centralized {}\n",
      "INFO flower 2022-05-03 12:06:37,927 | app.py:144 | Ray initialized with resources: {'memory': 10495554356.0, 'node:127.0.0.1': 1.0, 'object_store_memory': 5247777177.0, 'CPU': 8.0, 'GPU': 1.0}\n",
      "INFO flower 2022-05-03 12:06:37,928 | app.py:153 | Starting Flower simulation running: {'num_rounds': 1}\n",
      "INFO flower 2022-05-03 12:06:37,928 | server.py:128 | Initializing global parameters\n",
      "INFO flower 2022-05-03 12:06:37,929 | server.py:323 | Using initial parameters provided by strategy\n",
      "INFO flower 2022-05-03 12:06:37,929 | server.py:130 | Evaluating initial parameters\n",
      "INFO flower 2022-05-03 12:06:37,929 | server.py:143 | FL starting\n",
      "DEBUG flower 2022-05-03 12:06:37,930 | server.py:265 | fit_round: strategy sampled 7 clients (out of 7)\n",
      "DEBUG flower 2022-05-03 12:06:46,237 | server.py:277 | fit_round received 7 results and 0 failures\n",
      "DEBUG flower 2022-05-03 12:06:46,253 | server.py:211 | evaluate_round: strategy sampled 7 clients (out of 7)\n"
     ]
    },
    {
     "name": "stdout",
     "output_type": "stream",
     "text": [
      "Saving L1 round 9 E1 aggregated_weights...\n"
     ]
    },
    {
     "name": "stderr",
     "output_type": "stream",
     "text": [
      "DEBUG flower 2022-05-03 12:06:48,102 | server.py:223 | evaluate_round received 7 results and 0 failures\n",
      "INFO flower 2022-05-03 12:06:48,103 | server.py:182 | FL finished in 10.17313439999998\n",
      "INFO flower 2022-05-03 12:06:48,103 | app.py:149 | app_fit: losses_distributed [(1, 0.5988955914659952)]\n",
      "INFO flower 2022-05-03 12:06:48,104 | app.py:150 | app_fit: metrics_distributed {}\n",
      "INFO flower 2022-05-03 12:06:48,104 | app.py:151 | app_fit: losses_centralized []\n",
      "INFO flower 2022-05-03 12:06:48,104 | app.py:152 | app_fit: metrics_centralized {}\n",
      "INFO flower 2022-05-03 12:06:53,858 | app.py:144 | Ray initialized with resources: {'GPU': 1.0, 'memory': 12337781147.0, 'node:127.0.0.1': 1.0, 'object_store_memory': 6168890572.0, 'CPU': 8.0}\n",
      "INFO flower 2022-05-03 12:06:53,859 | app.py:153 | Starting Flower simulation running: {'num_rounds': 1}\n",
      "INFO flower 2022-05-03 12:06:53,859 | server.py:128 | Initializing global parameters\n",
      "INFO flower 2022-05-03 12:06:53,860 | server.py:323 | Using initial parameters provided by strategy\n",
      "INFO flower 2022-05-03 12:06:53,860 | server.py:130 | Evaluating initial parameters\n",
      "INFO flower 2022-05-03 12:06:53,860 | server.py:143 | FL starting\n",
      "DEBUG flower 2022-05-03 12:06:53,861 | server.py:265 | fit_round: strategy sampled 7 clients (out of 7)\n",
      "DEBUG flower 2022-05-03 12:07:01,731 | server.py:277 | fit_round received 7 results and 0 failures\n",
      "DEBUG flower 2022-05-03 12:07:01,746 | server.py:211 | evaluate_round: strategy sampled 7 clients (out of 7)\n"
     ]
    },
    {
     "name": "stdout",
     "output_type": "stream",
     "text": [
      "Saving L1 round 9 E2 aggregated_weights...\n"
     ]
    },
    {
     "name": "stderr",
     "output_type": "stream",
     "text": [
      "DEBUG flower 2022-05-03 12:07:03,487 | server.py:223 | evaluate_round received 7 results and 0 failures\n",
      "INFO flower 2022-05-03 12:07:03,488 | server.py:182 | FL finished in 9.627674699999943\n",
      "INFO flower 2022-05-03 12:07:03,488 | app.py:149 | app_fit: losses_distributed [(1, 0.529533535830395)]\n",
      "INFO flower 2022-05-03 12:07:03,489 | app.py:150 | app_fit: metrics_distributed {}\n",
      "INFO flower 2022-05-03 12:07:03,489 | app.py:151 | app_fit: losses_centralized []\n",
      "INFO flower 2022-05-03 12:07:03,490 | app.py:152 | app_fit: metrics_centralized {}\n",
      "INFO flower 2022-05-03 12:07:08,438 | app.py:144 | Ray initialized with resources: {'CPU': 8.0, 'object_store_memory': 6047118950.0, 'GPU': 1.0, 'memory': 12094237902.0, 'node:127.0.0.1': 1.0}\n",
      "INFO flower 2022-05-03 12:07:08,438 | app.py:153 | Starting Flower simulation running: {'num_rounds': 1}\n",
      "INFO flower 2022-05-03 12:07:08,438 | server.py:128 | Initializing global parameters\n",
      "INFO flower 2022-05-03 12:07:08,439 | server.py:323 | Using initial parameters provided by strategy\n",
      "INFO flower 2022-05-03 12:07:08,439 | server.py:130 | Evaluating initial parameters\n",
      "INFO flower 2022-05-03 12:07:08,439 | server.py:143 | FL starting\n",
      "DEBUG flower 2022-05-03 12:07:08,440 | server.py:265 | fit_round: strategy sampled 7 clients (out of 7)\n",
      "DEBUG flower 2022-05-03 12:07:16,145 | server.py:277 | fit_round received 7 results and 0 failures\n",
      "DEBUG flower 2022-05-03 12:07:16,168 | server.py:211 | evaluate_round: strategy sampled 7 clients (out of 7)\n"
     ]
    },
    {
     "name": "stdout",
     "output_type": "stream",
     "text": [
      "Saving L1 round 9 E3 aggregated_weights...\n"
     ]
    },
    {
     "name": "stderr",
     "output_type": "stream",
     "text": [
      "DEBUG flower 2022-05-03 12:07:17,796 | server.py:223 | evaluate_round received 7 results and 0 failures\n",
      "INFO flower 2022-05-03 12:07:17,796 | server.py:182 | FL finished in 9.355926899999986\n",
      "INFO flower 2022-05-03 12:07:17,797 | app.py:149 | app_fit: losses_distributed [(1, 0.6204574662585591)]\n",
      "INFO flower 2022-05-03 12:07:17,797 | app.py:150 | app_fit: metrics_distributed {}\n",
      "INFO flower 2022-05-03 12:07:17,798 | app.py:151 | app_fit: losses_centralized []\n",
      "INFO flower 2022-05-03 12:07:17,798 | app.py:152 | app_fit: metrics_centralized {}\n",
      "INFO flower 2022-05-03 12:07:23,047 | app.py:144 | Ray initialized with resources: {'GPU': 1.0, 'CPU': 8.0, 'memory': 12199990887.0, 'node:127.0.0.1': 1.0, 'object_store_memory': 6099995443.0}\n",
      "INFO flower 2022-05-03 12:07:23,047 | app.py:153 | Starting Flower simulation running: {'num_rounds': 1}\n",
      "INFO flower 2022-05-03 12:07:23,048 | server.py:128 | Initializing global parameters\n",
      "INFO flower 2022-05-03 12:07:23,048 | server.py:323 | Using initial parameters provided by strategy\n",
      "INFO flower 2022-05-03 12:07:23,049 | server.py:130 | Evaluating initial parameters\n",
      "INFO flower 2022-05-03 12:07:23,049 | server.py:143 | FL starting\n",
      "DEBUG flower 2022-05-03 12:07:23,050 | server.py:265 | fit_round: strategy sampled 3 clients (out of 3)\n",
      "DEBUG flower 2022-05-03 12:07:27,500 | server.py:277 | fit_round received 3 results and 0 failures\n",
      "DEBUG flower 2022-05-03 12:07:27,508 | server.py:211 | evaluate_round: strategy sampled 3 clients (out of 3)\n"
     ]
    },
    {
     "name": "stdout",
     "output_type": "stream",
     "text": [
      "Saving L2 round 9 aggregated_weights...\n"
     ]
    },
    {
     "name": "stderr",
     "output_type": "stream",
     "text": [
      "DEBUG flower 2022-05-03 12:07:33,843 | server.py:223 | evaluate_round received 3 results and 0 failures\n",
      "INFO flower 2022-05-03 12:07:33,844 | 2028186136.py:15 | round-9-EVALUATION\n",
      "INFO flower 2022-05-03 12:07:33,846 | 2028186136.py:32 | [('empresa_1', 0.6098418235778809), ('empresa_2', 0.7518330216407776), ('empresa_3', 0.5689166188240051)]\n",
      "INFO flower 2022-05-03 12:07:33,846 | 2028186136.py:38 | Aggregated accuracy: 0.6435304880142212 +- 0.07838280929083535\n",
      "INFO flower 2022-05-03 12:07:33,846 | server.py:182 | FL finished in 10.797191500000054\n",
      "INFO flower 2022-05-03 12:07:33,847 | app.py:149 | app_fit: losses_distributed [(1, 0.5996117956233862)]\n",
      "INFO flower 2022-05-03 12:07:33,847 | app.py:150 | app_fit: metrics_distributed {}\n",
      "INFO flower 2022-05-03 12:07:33,848 | app.py:151 | app_fit: losses_centralized []\n",
      "INFO flower 2022-05-03 12:07:33,848 | app.py:152 | app_fit: metrics_centralized {}\n",
      "INFO flower 2022-05-03 12:07:39,131 | app.py:144 | Ray initialized with resources: {'memory': 8164569908.0, 'CPU': 8.0, 'object_store_memory': 4082284953.0, 'GPU': 1.0, 'node:127.0.0.1': 1.0}\n",
      "INFO flower 2022-05-03 12:07:39,131 | app.py:153 | Starting Flower simulation running: {'num_rounds': 1}\n",
      "INFO flower 2022-05-03 12:07:39,132 | server.py:128 | Initializing global parameters\n",
      "INFO flower 2022-05-03 12:07:39,132 | server.py:323 | Using initial parameters provided by strategy\n",
      "INFO flower 2022-05-03 12:07:39,132 | server.py:130 | Evaluating initial parameters\n",
      "INFO flower 2022-05-03 12:07:39,133 | server.py:143 | FL starting\n",
      "DEBUG flower 2022-05-03 12:07:39,133 | server.py:265 | fit_round: strategy sampled 7 clients (out of 7)\n",
      "DEBUG flower 2022-05-03 12:07:47,227 | server.py:277 | fit_round received 7 results and 0 failures\n",
      "DEBUG flower 2022-05-03 12:07:47,244 | server.py:211 | evaluate_round: strategy sampled 7 clients (out of 7)\n"
     ]
    },
    {
     "name": "stdout",
     "output_type": "stream",
     "text": [
      "Saving L1 round 10 E1 aggregated_weights...\n"
     ]
    },
    {
     "name": "stderr",
     "output_type": "stream",
     "text": [
      "DEBUG flower 2022-05-03 12:07:49,009 | server.py:223 | evaluate_round received 7 results and 0 failures\n",
      "INFO flower 2022-05-03 12:07:49,010 | server.py:182 | FL finished in 9.877124699999968\n",
      "INFO flower 2022-05-03 12:07:49,010 | app.py:149 | app_fit: losses_distributed [(1, 0.5941371303346329)]\n",
      "INFO flower 2022-05-03 12:07:49,011 | app.py:150 | app_fit: metrics_distributed {}\n",
      "INFO flower 2022-05-03 12:07:49,011 | app.py:151 | app_fit: losses_centralized []\n",
      "INFO flower 2022-05-03 12:07:49,012 | app.py:152 | app_fit: metrics_centralized {}\n",
      "INFO flower 2022-05-03 12:07:53,829 | app.py:144 | Ray initialized with resources: {'object_store_memory': 6083035545.0, 'CPU': 8.0, 'GPU': 1.0, 'node:127.0.0.1': 1.0, 'memory': 12166071092.0}\n",
      "INFO flower 2022-05-03 12:07:53,829 | app.py:153 | Starting Flower simulation running: {'num_rounds': 1}\n",
      "INFO flower 2022-05-03 12:07:53,829 | server.py:128 | Initializing global parameters\n",
      "INFO flower 2022-05-03 12:07:53,830 | server.py:323 | Using initial parameters provided by strategy\n",
      "INFO flower 2022-05-03 12:07:53,830 | server.py:130 | Evaluating initial parameters\n",
      "INFO flower 2022-05-03 12:07:53,831 | server.py:143 | FL starting\n",
      "DEBUG flower 2022-05-03 12:07:53,831 | server.py:265 | fit_round: strategy sampled 7 clients (out of 7)\n",
      "DEBUG flower 2022-05-03 12:08:01,713 | server.py:277 | fit_round received 7 results and 0 failures\n",
      "DEBUG flower 2022-05-03 12:08:01,728 | server.py:211 | evaluate_round: strategy sampled 7 clients (out of 7)\n"
     ]
    },
    {
     "name": "stdout",
     "output_type": "stream",
     "text": [
      "Saving L1 round 10 E2 aggregated_weights...\n"
     ]
    },
    {
     "name": "stderr",
     "output_type": "stream",
     "text": [
      "DEBUG flower 2022-05-03 12:08:03,468 | server.py:223 | evaluate_round received 7 results and 0 failures\n",
      "INFO flower 2022-05-03 12:08:03,468 | server.py:182 | FL finished in 9.636711999999989\n",
      "INFO flower 2022-05-03 12:08:03,469 | app.py:149 | app_fit: losses_distributed [(1, 0.5214745666573294)]\n",
      "INFO flower 2022-05-03 12:08:03,469 | app.py:150 | app_fit: metrics_distributed {}\n",
      "INFO flower 2022-05-03 12:08:03,469 | app.py:151 | app_fit: losses_centralized []\n",
      "INFO flower 2022-05-03 12:08:03,470 | app.py:152 | app_fit: metrics_centralized {}\n",
      "INFO flower 2022-05-03 12:08:08,314 | app.py:144 | Ray initialized with resources: {'CPU': 8.0, 'object_store_memory': 6118246809.0, 'GPU': 1.0, 'memory': 12236493620.0, 'node:127.0.0.1': 1.0}\n",
      "INFO flower 2022-05-03 12:08:08,317 | app.py:153 | Starting Flower simulation running: {'num_rounds': 1}\n",
      "INFO flower 2022-05-03 12:08:08,320 | server.py:128 | Initializing global parameters\n",
      "INFO flower 2022-05-03 12:08:08,324 | server.py:323 | Using initial parameters provided by strategy\n",
      "INFO flower 2022-05-03 12:08:08,326 | server.py:130 | Evaluating initial parameters\n",
      "INFO flower 2022-05-03 12:08:08,328 | server.py:143 | FL starting\n",
      "DEBUG flower 2022-05-03 12:08:08,330 | server.py:265 | fit_round: strategy sampled 7 clients (out of 7)\n",
      "\u001b[2m\u001b[36m(pid=)\u001b[0m E0503 12:08:10.963000000  6788 src/core/ext/transport/chttp2/server/insecure/server_chttp2.cc:48] {\"created\":\"@1651572490.963000000\",\"description\":\"No address added out of total 1 resolved\",\"file\":\"src/core/ext/transport/chttp2/server/chttp2_server.cc\",\"file_line\":873,\"referenced_errors\":[{\"created\":\"@1651572490.963000000\",\"description\":\"Failed to add port to server\",\"file\":\"src/core/lib/iomgr/tcp_server_windows.cc\",\"file_line\":509,\"referenced_errors\":[{\"created\":\"@1651572490.963000000\",\"description\":\"OS Error\",\"file\":\"src/core/lib/iomgr/tcp_server_windows.cc\",\"file_line\":206,\"os_error\":\"Unable to retrieve error string\",\"syscall\":\"bind\",\"wsa_error\":10048}]}]}\n",
      "\u001b[2m\u001b[36m(pid=)\u001b[0m E0503 12:08:16.186000000  8444 src/core/ext/transport/chttp2/server/insecure/server_chttp2.cc:48] {\"created\":\"@1651572496.186000000\",\"description\":\"No address added out of total 1 resolved\",\"file\":\"src/core/ext/transport/chttp2/server/chttp2_server.cc\",\"file_line\":873,\"referenced_errors\":[{\"created\":\"@1651572496.186000000\",\"description\":\"Failed to add port to server\",\"file\":\"src/core/lib/iomgr/tcp_server_windows.cc\",\"file_line\":509,\"referenced_errors\":[{\"created\":\"@1651572496.186000000\",\"description\":\"OS Error\",\"file\":\"src/core/lib/iomgr/tcp_server_windows.cc\",\"file_line\":206,\"os_error\":\"Unable to retrieve error string\",\"syscall\":\"bind\",\"wsa_error\":10048}]}]}\n",
      "DEBUG flower 2022-05-03 12:08:16,323 | server.py:277 | fit_round received 7 results and 0 failures\n",
      "DEBUG flower 2022-05-03 12:08:16,339 | server.py:211 | evaluate_round: strategy sampled 7 clients (out of 7)\n"
     ]
    },
    {
     "name": "stdout",
     "output_type": "stream",
     "text": [
      "Saving L1 round 10 E3 aggregated_weights...\n"
     ]
    },
    {
     "name": "stderr",
     "output_type": "stream",
     "text": [
      "DEBUG flower 2022-05-03 12:08:17,964 | server.py:223 | evaluate_round received 7 results and 0 failures\n",
      "INFO flower 2022-05-03 12:08:17,965 | server.py:182 | FL finished in 9.634350899999959\n",
      "INFO flower 2022-05-03 12:08:17,965 | app.py:149 | app_fit: losses_distributed [(1, 0.6134566966606958)]\n",
      "INFO flower 2022-05-03 12:08:17,965 | app.py:150 | app_fit: metrics_distributed {}\n",
      "INFO flower 2022-05-03 12:08:17,966 | app.py:151 | app_fit: losses_centralized []\n",
      "INFO flower 2022-05-03 12:08:17,966 | app.py:152 | app_fit: metrics_centralized {}\n",
      "INFO flower 2022-05-03 12:08:22,829 | app.py:144 | Ray initialized with resources: {'GPU': 1.0, 'CPU': 8.0, 'memory': 12248390862.0, 'node:127.0.0.1': 1.0, 'object_store_memory': 6124195430.0}\n",
      "INFO flower 2022-05-03 12:08:22,830 | app.py:153 | Starting Flower simulation running: {'num_rounds': 1}\n",
      "INFO flower 2022-05-03 12:08:22,830 | server.py:128 | Initializing global parameters\n",
      "INFO flower 2022-05-03 12:08:22,830 | server.py:323 | Using initial parameters provided by strategy\n",
      "INFO flower 2022-05-03 12:08:22,831 | server.py:130 | Evaluating initial parameters\n",
      "INFO flower 2022-05-03 12:08:22,831 | server.py:143 | FL starting\n",
      "DEBUG flower 2022-05-03 12:08:22,831 | server.py:265 | fit_round: strategy sampled 3 clients (out of 3)\n",
      "DEBUG flower 2022-05-03 12:08:27,164 | server.py:277 | fit_round received 3 results and 0 failures\n",
      "DEBUG flower 2022-05-03 12:08:27,173 | server.py:211 | evaluate_round: strategy sampled 3 clients (out of 3)\n"
     ]
    },
    {
     "name": "stdout",
     "output_type": "stream",
     "text": [
      "Saving L2 round 10 aggregated_weights...\n"
     ]
    },
    {
     "name": "stderr",
     "output_type": "stream",
     "text": [
      "DEBUG flower 2022-05-03 12:08:33,477 | server.py:223 | evaluate_round received 3 results and 0 failures\n",
      "INFO flower 2022-05-03 12:08:33,478 | 2028186136.py:15 | round-10-EVALUATION\n",
      "INFO flower 2022-05-03 12:08:33,480 | 2028186136.py:32 | [('empresa_1', 0.6252197027206421), ('empresa_2', 0.7478849291801453), ('empresa_3', 0.6001134514808655)]\n",
      "INFO flower 2022-05-03 12:08:33,480 | 2028186136.py:38 | Aggregated accuracy: 0.6577393611272176 +- 0.06456133281625803\n",
      "INFO flower 2022-05-03 12:08:33,481 | server.py:182 | FL finished in 10.649963399999933\n",
      "INFO flower 2022-05-03 12:08:33,481 | app.py:149 | app_fit: losses_distributed [(1, 0.5943500544806636)]\n",
      "INFO flower 2022-05-03 12:08:33,482 | app.py:150 | app_fit: metrics_distributed {}\n",
      "INFO flower 2022-05-03 12:08:33,482 | app.py:151 | app_fit: losses_centralized []\n",
      "INFO flower 2022-05-03 12:08:33,483 | app.py:152 | app_fit: metrics_centralized {}\n",
      "INFO flower 2022-05-03 12:08:38,758 | app.py:144 | Ray initialized with resources: {'CPU': 8.0, 'object_store_memory': 4053856665.0, 'GPU': 1.0, 'memory': 8107713332.0, 'node:127.0.0.1': 1.0}\n",
      "INFO flower 2022-05-03 12:08:38,759 | app.py:153 | Starting Flower simulation running: {'num_rounds': 1}\n",
      "INFO flower 2022-05-03 12:08:38,759 | server.py:128 | Initializing global parameters\n",
      "INFO flower 2022-05-03 12:08:38,760 | server.py:323 | Using initial parameters provided by strategy\n",
      "INFO flower 2022-05-03 12:08:38,760 | server.py:130 | Evaluating initial parameters\n",
      "INFO flower 2022-05-03 12:08:38,760 | server.py:143 | FL starting\n",
      "DEBUG flower 2022-05-03 12:08:38,761 | server.py:265 | fit_round: strategy sampled 7 clients (out of 7)\n",
      "DEBUG flower 2022-05-03 12:08:47,006 | server.py:277 | fit_round received 7 results and 0 failures\n",
      "DEBUG flower 2022-05-03 12:08:47,023 | server.py:211 | evaluate_round: strategy sampled 7 clients (out of 7)\n"
     ]
    },
    {
     "name": "stdout",
     "output_type": "stream",
     "text": [
      "Saving L1 round 11 E1 aggregated_weights...\n"
     ]
    },
    {
     "name": "stderr",
     "output_type": "stream",
     "text": [
      "DEBUG flower 2022-05-03 12:08:48,848 | server.py:223 | evaluate_round received 7 results and 0 failures\n",
      "INFO flower 2022-05-03 12:08:48,849 | server.py:182 | FL finished in 10.087891300000024\n",
      "INFO flower 2022-05-03 12:08:48,849 | app.py:149 | app_fit: losses_distributed [(1, 0.5902272908832151)]\n",
      "INFO flower 2022-05-03 12:08:48,850 | app.py:150 | app_fit: metrics_distributed {}\n",
      "INFO flower 2022-05-03 12:08:48,850 | app.py:151 | app_fit: losses_centralized []\n",
      "INFO flower 2022-05-03 12:08:48,850 | app.py:152 | app_fit: metrics_centralized {}\n",
      "INFO flower 2022-05-03 12:08:54,492 | app.py:144 | Ray initialized with resources: {'CPU': 8.0, 'object_store_memory': 5430713548.0, 'GPU': 1.0, 'memory': 10861427099.0, 'node:127.0.0.1': 1.0}\n",
      "INFO flower 2022-05-03 12:08:54,493 | app.py:153 | Starting Flower simulation running: {'num_rounds': 1}\n",
      "INFO flower 2022-05-03 12:08:54,493 | server.py:128 | Initializing global parameters\n",
      "INFO flower 2022-05-03 12:08:54,494 | server.py:323 | Using initial parameters provided by strategy\n",
      "INFO flower 2022-05-03 12:08:54,494 | server.py:130 | Evaluating initial parameters\n",
      "INFO flower 2022-05-03 12:08:54,494 | server.py:143 | FL starting\n",
      "DEBUG flower 2022-05-03 12:08:54,495 | server.py:265 | fit_round: strategy sampled 7 clients (out of 7)\n",
      "DEBUG flower 2022-05-03 12:09:02,390 | server.py:277 | fit_round received 7 results and 0 failures\n",
      "DEBUG flower 2022-05-03 12:09:02,406 | server.py:211 | evaluate_round: strategy sampled 7 clients (out of 7)\n"
     ]
    },
    {
     "name": "stdout",
     "output_type": "stream",
     "text": [
      "Saving L1 round 11 E2 aggregated_weights...\n"
     ]
    },
    {
     "name": "stderr",
     "output_type": "stream",
     "text": [
      "DEBUG flower 2022-05-03 12:09:04,143 | server.py:223 | evaluate_round received 7 results and 0 failures\n",
      "INFO flower 2022-05-03 12:09:04,143 | server.py:182 | FL finished in 9.647994199999971\n",
      "INFO flower 2022-05-03 12:09:04,144 | app.py:149 | app_fit: losses_distributed [(1, 0.514504905918259)]\n",
      "INFO flower 2022-05-03 12:09:04,144 | app.py:150 | app_fit: metrics_distributed {}\n",
      "INFO flower 2022-05-03 12:09:04,145 | app.py:151 | app_fit: losses_centralized []\n",
      "INFO flower 2022-05-03 12:09:04,145 | app.py:152 | app_fit: metrics_centralized {}\n",
      "INFO flower 2022-05-03 12:09:08,942 | app.py:144 | Ray initialized with resources: {'CPU': 8.0, 'GPU': 1.0, 'memory': 12226987623.0, 'node:127.0.0.1': 1.0, 'object_store_memory': 6113493811.0}\n",
      "INFO flower 2022-05-03 12:09:08,943 | app.py:153 | Starting Flower simulation running: {'num_rounds': 1}\n",
      "INFO flower 2022-05-03 12:09:08,943 | server.py:128 | Initializing global parameters\n",
      "INFO flower 2022-05-03 12:09:08,944 | server.py:323 | Using initial parameters provided by strategy\n",
      "INFO flower 2022-05-03 12:09:08,944 | server.py:130 | Evaluating initial parameters\n",
      "INFO flower 2022-05-03 12:09:08,944 | server.py:143 | FL starting\n",
      "DEBUG flower 2022-05-03 12:09:08,945 | server.py:265 | fit_round: strategy sampled 7 clients (out of 7)\n",
      "DEBUG flower 2022-05-03 12:09:16,649 | server.py:277 | fit_round received 7 results and 0 failures\n",
      "DEBUG flower 2022-05-03 12:09:16,664 | server.py:211 | evaluate_round: strategy sampled 7 clients (out of 7)\n"
     ]
    },
    {
     "name": "stdout",
     "output_type": "stream",
     "text": [
      "Saving L1 round 11 E3 aggregated_weights...\n"
     ]
    },
    {
     "name": "stderr",
     "output_type": "stream",
     "text": [
      "DEBUG flower 2022-05-03 12:09:18,282 | server.py:223 | evaluate_round received 7 results and 0 failures\n",
      "INFO flower 2022-05-03 12:09:18,283 | server.py:182 | FL finished in 9.338785199999961\n",
      "INFO flower 2022-05-03 12:09:18,283 | app.py:149 | app_fit: losses_distributed [(1, 0.6067914327504076)]\n",
      "INFO flower 2022-05-03 12:09:18,284 | app.py:150 | app_fit: metrics_distributed {}\n",
      "INFO flower 2022-05-03 12:09:18,284 | app.py:151 | app_fit: losses_centralized []\n",
      "INFO flower 2022-05-03 12:09:18,284 | app.py:152 | app_fit: metrics_centralized {}\n",
      "INFO flower 2022-05-03 12:09:23,604 | app.py:144 | Ray initialized with resources: {'CPU': 8.0, 'GPU': 1.0, 'memory': 12226648475.0, 'node:127.0.0.1': 1.0, 'object_store_memory': 6113324236.0}\n",
      "INFO flower 2022-05-03 12:09:23,605 | app.py:153 | Starting Flower simulation running: {'num_rounds': 1}\n",
      "INFO flower 2022-05-03 12:09:23,606 | server.py:128 | Initializing global parameters\n",
      "INFO flower 2022-05-03 12:09:23,607 | server.py:323 | Using initial parameters provided by strategy\n",
      "INFO flower 2022-05-03 12:09:23,607 | server.py:130 | Evaluating initial parameters\n",
      "INFO flower 2022-05-03 12:09:23,608 | server.py:143 | FL starting\n",
      "DEBUG flower 2022-05-03 12:09:23,608 | server.py:265 | fit_round: strategy sampled 3 clients (out of 3)\n",
      "DEBUG flower 2022-05-03 12:09:27,364 | server.py:277 | fit_round received 3 results and 0 failures\n",
      "DEBUG flower 2022-05-03 12:09:27,378 | server.py:211 | evaluate_round: strategy sampled 3 clients (out of 3)\n"
     ]
    },
    {
     "name": "stdout",
     "output_type": "stream",
     "text": [
      "Saving L2 round 11 aggregated_weights...\n"
     ]
    },
    {
     "name": "stderr",
     "output_type": "stream",
     "text": [
      "DEBUG flower 2022-05-03 12:09:31,224 | server.py:223 | evaluate_round received 3 results and 0 failures\n",
      "INFO flower 2022-05-03 12:09:31,224 | 2028186136.py:15 | round-11-EVALUATION\n",
      "INFO flower 2022-05-03 12:09:31,227 | 2028186136.py:32 | [('empresa_1', 0.637082576751709), ('empresa_2', 0.7315284609794617), ('empresa_3', 0.6222348213195801)]\n",
      "INFO flower 2022-05-03 12:09:31,227 | 2028186136.py:38 | Aggregated accuracy: 0.6636152863502502 +- 0.04840291607266655\n",
      "INFO flower 2022-05-03 12:09:31,228 | server.py:182 | FL finished in 7.620057999999972\n",
      "INFO flower 2022-05-03 12:09:31,228 | app.py:149 | app_fit: losses_distributed [(1, 0.5898091461296666)]\n",
      "INFO flower 2022-05-03 12:09:31,229 | app.py:150 | app_fit: metrics_distributed {}\n",
      "INFO flower 2022-05-03 12:09:31,229 | app.py:151 | app_fit: losses_centralized []\n",
      "INFO flower 2022-05-03 12:09:31,229 | app.py:152 | app_fit: metrics_centralized {}\n",
      "INFO flower 2022-05-03 12:09:36,167 | app.py:144 | Ray initialized with resources: {'GPU': 1.0, 'memory': 10232669799.0, 'node:127.0.0.1': 1.0, 'object_store_memory': 5116334899.0, 'CPU': 8.0}\n",
      "INFO flower 2022-05-03 12:09:36,168 | app.py:153 | Starting Flower simulation running: {'num_rounds': 1}\n",
      "INFO flower 2022-05-03 12:09:36,169 | server.py:128 | Initializing global parameters\n",
      "INFO flower 2022-05-03 12:09:36,169 | server.py:323 | Using initial parameters provided by strategy\n",
      "INFO flower 2022-05-03 12:09:36,170 | server.py:130 | Evaluating initial parameters\n",
      "INFO flower 2022-05-03 12:09:36,170 | server.py:143 | FL starting\n",
      "DEBUG flower 2022-05-03 12:09:36,170 | server.py:265 | fit_round: strategy sampled 7 clients (out of 7)\n",
      "DEBUG flower 2022-05-03 12:09:44,217 | server.py:277 | fit_round received 7 results and 0 failures\n",
      "DEBUG flower 2022-05-03 12:09:44,232 | server.py:211 | evaluate_round: strategy sampled 7 clients (out of 7)\n"
     ]
    },
    {
     "name": "stdout",
     "output_type": "stream",
     "text": [
      "Saving L1 round 12 E1 aggregated_weights...\n"
     ]
    },
    {
     "name": "stderr",
     "output_type": "stream",
     "text": [
      "DEBUG flower 2022-05-03 12:09:46,008 | server.py:223 | evaluate_round received 7 results and 0 failures\n",
      "INFO flower 2022-05-03 12:09:46,008 | server.py:182 | FL finished in 9.837892099999976\n",
      "INFO flower 2022-05-03 12:09:46,009 | app.py:149 | app_fit: losses_distributed [(1, 0.5870381150073871)]\n",
      "INFO flower 2022-05-03 12:09:46,009 | app.py:150 | app_fit: metrics_distributed {}\n",
      "INFO flower 2022-05-03 12:09:46,009 | app.py:151 | app_fit: losses_centralized []\n",
      "INFO flower 2022-05-03 12:09:46,010 | app.py:152 | app_fit: metrics_centralized {}\n",
      "INFO flower 2022-05-03 12:09:50,847 | app.py:144 | Ray initialized with resources: {'CPU': 8.0, 'object_store_memory': 6027616665.0, 'GPU': 1.0, 'memory': 12055233332.0, 'node:127.0.0.1': 1.0}\n",
      "INFO flower 2022-05-03 12:09:50,848 | app.py:153 | Starting Flower simulation running: {'num_rounds': 1}\n",
      "INFO flower 2022-05-03 12:09:50,849 | server.py:128 | Initializing global parameters\n",
      "INFO flower 2022-05-03 12:09:50,849 | server.py:323 | Using initial parameters provided by strategy\n",
      "INFO flower 2022-05-03 12:09:50,850 | server.py:130 | Evaluating initial parameters\n",
      "INFO flower 2022-05-03 12:09:50,850 | server.py:143 | FL starting\n",
      "DEBUG flower 2022-05-03 12:09:50,850 | server.py:265 | fit_round: strategy sampled 7 clients (out of 7)\n",
      "DEBUG flower 2022-05-03 12:09:58,829 | server.py:277 | fit_round received 7 results and 0 failures\n",
      "DEBUG flower 2022-05-03 12:09:58,844 | server.py:211 | evaluate_round: strategy sampled 7 clients (out of 7)\n"
     ]
    },
    {
     "name": "stdout",
     "output_type": "stream",
     "text": [
      "Saving L1 round 12 E2 aggregated_weights...\n"
     ]
    },
    {
     "name": "stderr",
     "output_type": "stream",
     "text": [
      "DEBUG flower 2022-05-03 12:10:00,593 | server.py:223 | evaluate_round received 7 results and 0 failures\n",
      "INFO flower 2022-05-03 12:10:00,594 | server.py:182 | FL finished in 9.743913600000042\n",
      "INFO flower 2022-05-03 12:10:00,594 | app.py:149 | app_fit: losses_distributed [(1, 0.50865926698178)]\n",
      "INFO flower 2022-05-03 12:10:00,595 | app.py:150 | app_fit: metrics_distributed {}\n",
      "INFO flower 2022-05-03 12:10:00,595 | app.py:151 | app_fit: losses_centralized []\n",
      "INFO flower 2022-05-03 12:10:00,596 | app.py:152 | app_fit: metrics_centralized {}\n",
      "INFO flower 2022-05-03 12:10:05,460 | app.py:144 | Ray initialized with resources: {'GPU': 1.0, 'memory': 11996329575.0, 'node:127.0.0.1': 1.0, 'object_store_memory': 5998164787.0, 'CPU': 8.0}\n",
      "INFO flower 2022-05-03 12:10:05,461 | app.py:153 | Starting Flower simulation running: {'num_rounds': 1}\n",
      "INFO flower 2022-05-03 12:10:05,461 | server.py:128 | Initializing global parameters\n",
      "INFO flower 2022-05-03 12:10:05,462 | server.py:323 | Using initial parameters provided by strategy\n",
      "INFO flower 2022-05-03 12:10:05,462 | server.py:130 | Evaluating initial parameters\n",
      "INFO flower 2022-05-03 12:10:05,462 | server.py:143 | FL starting\n",
      "DEBUG flower 2022-05-03 12:10:05,463 | server.py:265 | fit_round: strategy sampled 7 clients (out of 7)\n",
      "DEBUG flower 2022-05-03 12:10:13,304 | server.py:277 | fit_round received 7 results and 0 failures\n",
      "DEBUG flower 2022-05-03 12:10:13,322 | server.py:211 | evaluate_round: strategy sampled 7 clients (out of 7)\n"
     ]
    },
    {
     "name": "stdout",
     "output_type": "stream",
     "text": [
      "Saving L1 round 12 E3 aggregated_weights...\n"
     ]
    },
    {
     "name": "stderr",
     "output_type": "stream",
     "text": [
      "DEBUG flower 2022-05-03 12:10:14,947 | server.py:223 | evaluate_round received 7 results and 0 failures\n",
      "INFO flower 2022-05-03 12:10:14,948 | server.py:182 | FL finished in 9.48480440000003\n",
      "INFO flower 2022-05-03 12:10:14,948 | app.py:149 | app_fit: losses_distributed [(1, 0.6005632432428059)]\n",
      "INFO flower 2022-05-03 12:10:14,948 | app.py:150 | app_fit: metrics_distributed {}\n",
      "INFO flower 2022-05-03 12:10:14,949 | app.py:151 | app_fit: losses_centralized []\n",
      "INFO flower 2022-05-03 12:10:14,949 | app.py:152 | app_fit: metrics_centralized {}\n",
      "INFO flower 2022-05-03 12:10:20,023 | app.py:144 | Ray initialized with resources: {'CPU': 8.0, 'object_store_memory': 6118232064.0, 'GPU': 1.0, 'memory': 12236464128.0, 'node:127.0.0.1': 1.0}\n",
      "INFO flower 2022-05-03 12:10:20,023 | app.py:153 | Starting Flower simulation running: {'num_rounds': 1}\n",
      "INFO flower 2022-05-03 12:10:20,024 | server.py:128 | Initializing global parameters\n",
      "INFO flower 2022-05-03 12:10:20,024 | server.py:323 | Using initial parameters provided by strategy\n",
      "INFO flower 2022-05-03 12:10:20,024 | server.py:130 | Evaluating initial parameters\n",
      "INFO flower 2022-05-03 12:10:20,025 | server.py:143 | FL starting\n",
      "DEBUG flower 2022-05-03 12:10:20,025 | server.py:265 | fit_round: strategy sampled 3 clients (out of 3)\n",
      "DEBUG flower 2022-05-03 12:10:23,804 | server.py:277 | fit_round received 3 results and 0 failures\n",
      "DEBUG flower 2022-05-03 12:10:23,819 | server.py:211 | evaluate_round: strategy sampled 3 clients (out of 3)\n"
     ]
    },
    {
     "name": "stdout",
     "output_type": "stream",
     "text": [
      "Saving L2 round 12 aggregated_weights...\n"
     ]
    },
    {
     "name": "stderr",
     "output_type": "stream",
     "text": [
      "DEBUG flower 2022-05-03 12:10:27,677 | server.py:223 | evaluate_round received 3 results and 0 failures\n",
      "INFO flower 2022-05-03 12:10:27,678 | 2028186136.py:15 | round-12-EVALUATION\n",
      "INFO flower 2022-05-03 12:10:27,680 | 2028186136.py:32 | [('empresa_1', 0.6515817046165466), ('empresa_2', 0.7315284609794617), ('empresa_3', 0.6358479857444763)]\n",
      "INFO flower 2022-05-03 12:10:27,680 | 2028186136.py:38 | Aggregated accuracy: 0.6729860504468282 +- 0.04189111163174419\n",
      "INFO flower 2022-05-03 12:10:27,681 | server.py:182 | FL finished in 7.656313000000068\n",
      "INFO flower 2022-05-03 12:10:27,681 | app.py:149 | app_fit: losses_distributed [(1, 0.5859095313511302)]\n",
      "INFO flower 2022-05-03 12:10:27,682 | app.py:150 | app_fit: metrics_distributed {}\n",
      "INFO flower 2022-05-03 12:10:27,682 | app.py:151 | app_fit: losses_centralized []\n",
      "INFO flower 2022-05-03 12:10:27,683 | app.py:152 | app_fit: metrics_centralized {}\n",
      "INFO flower 2022-05-03 12:10:32,525 | app.py:144 | Ray initialized with resources: {'GPU': 1.0, 'CPU': 8.0, 'memory': 12110811956.0, 'node:127.0.0.1': 1.0, 'object_store_memory': 6055405977.0}\n",
      "INFO flower 2022-05-03 12:10:32,526 | app.py:153 | Starting Flower simulation running: {'num_rounds': 1}\n",
      "INFO flower 2022-05-03 12:10:32,526 | server.py:128 | Initializing global parameters\n",
      "INFO flower 2022-05-03 12:10:32,526 | server.py:323 | Using initial parameters provided by strategy\n",
      "INFO flower 2022-05-03 12:10:32,527 | server.py:130 | Evaluating initial parameters\n",
      "INFO flower 2022-05-03 12:10:32,528 | server.py:143 | FL starting\n",
      "DEBUG flower 2022-05-03 12:10:32,528 | server.py:265 | fit_round: strategy sampled 7 clients (out of 7)\n",
      "DEBUG flower 2022-05-03 12:10:40,565 | server.py:277 | fit_round received 7 results and 0 failures\n",
      "DEBUG flower 2022-05-03 12:10:40,581 | server.py:211 | evaluate_round: strategy sampled 7 clients (out of 7)\n"
     ]
    },
    {
     "name": "stdout",
     "output_type": "stream",
     "text": [
      "Saving L1 round 13 E1 aggregated_weights...\n"
     ]
    },
    {
     "name": "stderr",
     "output_type": "stream",
     "text": [
      "DEBUG flower 2022-05-03 12:10:42,375 | server.py:223 | evaluate_round received 7 results and 0 failures\n",
      "INFO flower 2022-05-03 12:10:42,376 | server.py:182 | FL finished in 9.848009400000024\n",
      "INFO flower 2022-05-03 12:10:42,376 | app.py:149 | app_fit: losses_distributed [(1, 0.5844501537812615)]\n",
      "INFO flower 2022-05-03 12:10:42,377 | app.py:150 | app_fit: metrics_distributed {}\n",
      "INFO flower 2022-05-03 12:10:42,377 | app.py:151 | app_fit: losses_centralized []\n",
      "INFO flower 2022-05-03 12:10:42,377 | app.py:152 | app_fit: metrics_centralized {}\n",
      "INFO flower 2022-05-03 12:10:47,216 | app.py:144 | Ray initialized with resources: {'GPU': 1.0, 'CPU': 8.0, 'memory': 12213139047.0, 'node:127.0.0.1': 1.0, 'object_store_memory': 6106569523.0}\n",
      "INFO flower 2022-05-03 12:10:47,217 | app.py:153 | Starting Flower simulation running: {'num_rounds': 1}\n",
      "INFO flower 2022-05-03 12:10:47,217 | server.py:128 | Initializing global parameters\n",
      "INFO flower 2022-05-03 12:10:47,218 | server.py:323 | Using initial parameters provided by strategy\n",
      "INFO flower 2022-05-03 12:10:47,218 | server.py:130 | Evaluating initial parameters\n",
      "INFO flower 2022-05-03 12:10:47,218 | server.py:143 | FL starting\n",
      "DEBUG flower 2022-05-03 12:10:47,219 | server.py:265 | fit_round: strategy sampled 7 clients (out of 7)\n",
      "DEBUG flower 2022-05-03 12:10:55,156 | server.py:277 | fit_round received 7 results and 0 failures\n",
      "DEBUG flower 2022-05-03 12:10:55,172 | server.py:211 | evaluate_round: strategy sampled 7 clients (out of 7)\n"
     ]
    },
    {
     "name": "stdout",
     "output_type": "stream",
     "text": [
      "Saving L1 round 13 E2 aggregated_weights...\n"
     ]
    },
    {
     "name": "stderr",
     "output_type": "stream",
     "text": [
      "DEBUG flower 2022-05-03 12:10:56,903 | server.py:223 | evaluate_round received 7 results and 0 failures\n",
      "INFO flower 2022-05-03 12:10:56,903 | server.py:182 | FL finished in 9.68457909999995\n",
      "INFO flower 2022-05-03 12:10:56,903 | app.py:149 | app_fit: losses_distributed [(1, 0.5035270515028797)]\n",
      "INFO flower 2022-05-03 12:10:56,904 | app.py:150 | app_fit: metrics_distributed {}\n",
      "INFO flower 2022-05-03 12:10:56,904 | app.py:151 | app_fit: losses_centralized []\n",
      "INFO flower 2022-05-03 12:10:56,905 | app.py:152 | app_fit: metrics_centralized {}\n",
      "INFO flower 2022-05-03 12:11:01,824 | app.py:144 | Ray initialized with resources: {'node:127.0.0.1': 1.0, 'GPU': 1.0, 'memory': 12012448974.0, 'CPU': 8.0, 'object_store_memory': 6006224486.0}\n",
      "INFO flower 2022-05-03 12:11:01,824 | app.py:153 | Starting Flower simulation running: {'num_rounds': 1}\n",
      "INFO flower 2022-05-03 12:11:01,825 | server.py:128 | Initializing global parameters\n",
      "INFO flower 2022-05-03 12:11:01,826 | server.py:323 | Using initial parameters provided by strategy\n",
      "INFO flower 2022-05-03 12:11:01,826 | server.py:130 | Evaluating initial parameters\n",
      "INFO flower 2022-05-03 12:11:01,826 | server.py:143 | FL starting\n",
      "DEBUG flower 2022-05-03 12:11:01,827 | server.py:265 | fit_round: strategy sampled 7 clients (out of 7)\n",
      "DEBUG flower 2022-05-03 12:11:09,525 | server.py:277 | fit_round received 7 results and 0 failures\n",
      "DEBUG flower 2022-05-03 12:11:09,548 | server.py:211 | evaluate_round: strategy sampled 7 clients (out of 7)\n"
     ]
    },
    {
     "name": "stdout",
     "output_type": "stream",
     "text": [
      "Saving L1 round 13 E3 aggregated_weights...\n"
     ]
    },
    {
     "name": "stderr",
     "output_type": "stream",
     "text": [
      "DEBUG flower 2022-05-03 12:11:11,174 | server.py:223 | evaluate_round received 7 results and 0 failures\n",
      "INFO flower 2022-05-03 12:11:11,175 | server.py:182 | FL finished in 9.347383200000081\n",
      "INFO flower 2022-05-03 12:11:11,175 | app.py:149 | app_fit: losses_distributed [(1, 0.5946436313425216)]\n",
      "INFO flower 2022-05-03 12:11:11,176 | app.py:150 | app_fit: metrics_distributed {}\n",
      "INFO flower 2022-05-03 12:11:11,176 | app.py:151 | app_fit: losses_centralized []\n",
      "INFO flower 2022-05-03 12:11:11,176 | app.py:152 | app_fit: metrics_centralized {}\n",
      "INFO flower 2022-05-03 12:11:16,514 | app.py:144 | Ray initialized with resources: {'node:127.0.0.1': 1.0, 'GPU': 1.0, 'memory': 12146429952.0, 'CPU': 8.0, 'object_store_memory': 6073214976.0}\n",
      "INFO flower 2022-05-03 12:11:16,514 | app.py:153 | Starting Flower simulation running: {'num_rounds': 1}\n",
      "INFO flower 2022-05-03 12:11:16,515 | server.py:128 | Initializing global parameters\n",
      "INFO flower 2022-05-03 12:11:16,515 | server.py:323 | Using initial parameters provided by strategy\n",
      "INFO flower 2022-05-03 12:11:16,516 | server.py:130 | Evaluating initial parameters\n",
      "INFO flower 2022-05-03 12:11:16,516 | server.py:143 | FL starting\n",
      "DEBUG flower 2022-05-03 12:11:16,516 | server.py:265 | fit_round: strategy sampled 3 clients (out of 3)\n",
      "DEBUG flower 2022-05-03 12:11:20,866 | server.py:277 | fit_round received 3 results and 0 failures\n",
      "DEBUG flower 2022-05-03 12:11:20,876 | server.py:211 | evaluate_round: strategy sampled 3 clients (out of 3)\n"
     ]
    },
    {
     "name": "stdout",
     "output_type": "stream",
     "text": [
      "Saving L2 round 13 aggregated_weights...\n"
     ]
    },
    {
     "name": "stderr",
     "output_type": "stream",
     "text": [
      "DEBUG flower 2022-05-03 12:11:27,212 | server.py:223 | evaluate_round received 3 results and 0 failures\n",
      "INFO flower 2022-05-03 12:11:27,213 | 2028186136.py:15 | round-13-EVALUATION\n",
      "INFO flower 2022-05-03 12:11:27,215 | 2028186136.py:32 | [('empresa_1', 0.6603690981864929), ('empresa_2', 0.7258883118629456), ('empresa_3', 0.6557005047798157)]\n",
      "INFO flower 2022-05-03 12:11:27,215 | 2028186136.py:38 | Aggregated accuracy: 0.6806526382764181 +- 0.03204318507597067\n",
      "INFO flower 2022-05-03 12:11:27,216 | server.py:182 | FL finished in 10.6992426999999\n",
      "INFO flower 2022-05-03 12:11:27,216 | app.py:149 | app_fit: losses_distributed [(1, 0.5826273574471391)]\n",
      "INFO flower 2022-05-03 12:11:27,216 | app.py:150 | app_fit: metrics_distributed {}\n",
      "INFO flower 2022-05-03 12:11:27,217 | app.py:151 | app_fit: losses_centralized []\n",
      "INFO flower 2022-05-03 12:11:27,217 | app.py:152 | app_fit: metrics_centralized {}\n",
      "INFO flower 2022-05-03 12:11:32,525 | app.py:144 | Ray initialized with resources: {'object_store_memory': 4152267571.0, 'GPU': 1.0, 'node:127.0.0.1': 1.0, 'memory': 8304535143.0, 'CPU': 8.0}\n",
      "INFO flower 2022-05-03 12:11:32,526 | app.py:153 | Starting Flower simulation running: {'num_rounds': 1}\n",
      "INFO flower 2022-05-03 12:11:32,526 | server.py:128 | Initializing global parameters\n",
      "INFO flower 2022-05-03 12:11:32,527 | server.py:323 | Using initial parameters provided by strategy\n",
      "INFO flower 2022-05-03 12:11:32,528 | server.py:130 | Evaluating initial parameters\n",
      "INFO flower 2022-05-03 12:11:32,528 | server.py:143 | FL starting\n",
      "DEBUG flower 2022-05-03 12:11:32,528 | server.py:265 | fit_round: strategy sampled 7 clients (out of 7)\n",
      "DEBUG flower 2022-05-03 12:11:40,593 | server.py:277 | fit_round received 7 results and 0 failures\n",
      "DEBUG flower 2022-05-03 12:11:40,609 | server.py:211 | evaluate_round: strategy sampled 7 clients (out of 7)\n"
     ]
    },
    {
     "name": "stdout",
     "output_type": "stream",
     "text": [
      "Saving L1 round 14 E1 aggregated_weights...\n"
     ]
    },
    {
     "name": "stderr",
     "output_type": "stream",
     "text": [
      "DEBUG flower 2022-05-03 12:11:42,379 | server.py:223 | evaluate_round received 7 results and 0 failures\n",
      "INFO flower 2022-05-03 12:11:42,379 | server.py:182 | FL finished in 9.850825799999939\n",
      "INFO flower 2022-05-03 12:11:42,380 | app.py:149 | app_fit: losses_distributed [(1, 0.582289131721629)]\n",
      "INFO flower 2022-05-03 12:11:42,380 | app.py:150 | app_fit: metrics_distributed {}\n",
      "INFO flower 2022-05-03 12:11:42,381 | app.py:151 | app_fit: losses_centralized []\n",
      "INFO flower 2022-05-03 12:11:42,381 | app.py:152 | app_fit: metrics_centralized {}\n",
      "INFO flower 2022-05-03 12:11:47,210 | app.py:144 | Ray initialized with resources: {'object_store_memory': 6028179456.0, 'CPU': 8.0, 'GPU': 1.0, 'node:127.0.0.1': 1.0, 'memory': 12056358912.0}\n",
      "INFO flower 2022-05-03 12:11:47,211 | app.py:153 | Starting Flower simulation running: {'num_rounds': 1}\n",
      "INFO flower 2022-05-03 12:11:47,212 | server.py:128 | Initializing global parameters\n",
      "INFO flower 2022-05-03 12:11:47,212 | server.py:323 | Using initial parameters provided by strategy\n",
      "INFO flower 2022-05-03 12:11:47,212 | server.py:130 | Evaluating initial parameters\n",
      "INFO flower 2022-05-03 12:11:47,213 | server.py:143 | FL starting\n",
      "DEBUG flower 2022-05-03 12:11:47,213 | server.py:265 | fit_round: strategy sampled 7 clients (out of 7)\n",
      "DEBUG flower 2022-05-03 12:11:54,986 | server.py:277 | fit_round received 7 results and 0 failures\n",
      "DEBUG flower 2022-05-03 12:11:55,003 | server.py:211 | evaluate_round: strategy sampled 7 clients (out of 7)\n"
     ]
    },
    {
     "name": "stdout",
     "output_type": "stream",
     "text": [
      "Saving L1 round 14 E2 aggregated_weights...\n"
     ]
    },
    {
     "name": "stderr",
     "output_type": "stream",
     "text": [
      "DEBUG flower 2022-05-03 12:11:56,734 | server.py:223 | evaluate_round received 7 results and 0 failures\n",
      "INFO flower 2022-05-03 12:11:56,735 | server.py:182 | FL finished in 9.52156919999993\n",
      "INFO flower 2022-05-03 12:11:56,736 | app.py:149 | app_fit: losses_distributed [(1, 0.49922930041209357)]\n",
      "INFO flower 2022-05-03 12:11:56,736 | app.py:150 | app_fit: metrics_distributed {}\n",
      "INFO flower 2022-05-03 12:11:56,736 | app.py:151 | app_fit: losses_centralized []\n",
      "INFO flower 2022-05-03 12:11:56,737 | app.py:152 | app_fit: metrics_centralized {}\n",
      "INFO flower 2022-05-03 12:12:01,865 | app.py:144 | Ray initialized with resources: {'GPU': 1.0, 'object_store_memory': 6062057472.0, 'node:127.0.0.1': 1.0, 'CPU': 8.0, 'memory': 12124114944.0}\n",
      "INFO flower 2022-05-03 12:12:01,866 | app.py:153 | Starting Flower simulation running: {'num_rounds': 1}\n",
      "INFO flower 2022-05-03 12:12:01,866 | server.py:128 | Initializing global parameters\n",
      "INFO flower 2022-05-03 12:12:01,866 | server.py:323 | Using initial parameters provided by strategy\n",
      "INFO flower 2022-05-03 12:12:01,867 | server.py:130 | Evaluating initial parameters\n",
      "INFO flower 2022-05-03 12:12:01,867 | server.py:143 | FL starting\n",
      "DEBUG flower 2022-05-03 12:12:01,867 | server.py:265 | fit_round: strategy sampled 7 clients (out of 7)\n",
      "DEBUG flower 2022-05-03 12:12:09,671 | server.py:277 | fit_round received 7 results and 0 failures\n",
      "DEBUG flower 2022-05-03 12:12:09,693 | server.py:211 | evaluate_round: strategy sampled 7 clients (out of 7)\n"
     ]
    },
    {
     "name": "stdout",
     "output_type": "stream",
     "text": [
      "Saving L1 round 14 E3 aggregated_weights...\n"
     ]
    },
    {
     "name": "stderr",
     "output_type": "stream",
     "text": [
      "DEBUG flower 2022-05-03 12:12:11,308 | server.py:223 | evaluate_round received 7 results and 0 failures\n",
      "INFO flower 2022-05-03 12:12:11,308 | server.py:182 | FL finished in 9.440430900000024\n",
      "INFO flower 2022-05-03 12:12:11,309 | app.py:149 | app_fit: losses_distributed [(1, 0.5891667697420191)]\n",
      "INFO flower 2022-05-03 12:12:11,309 | app.py:150 | app_fit: metrics_distributed {}\n",
      "INFO flower 2022-05-03 12:12:11,309 | app.py:151 | app_fit: losses_centralized []\n",
      "INFO flower 2022-05-03 12:12:11,310 | app.py:152 | app_fit: metrics_centralized {}\n",
      "INFO flower 2022-05-03 12:12:16,552 | app.py:144 | Ray initialized with resources: {'node:127.0.0.1': 1.0, 'GPU': 1.0, 'memory': 12213148878.0, 'object_store_memory': 6106574438.0, 'CPU': 8.0}\n",
      "INFO flower 2022-05-03 12:12:16,553 | app.py:153 | Starting Flower simulation running: {'num_rounds': 1}\n",
      "INFO flower 2022-05-03 12:12:16,553 | server.py:128 | Initializing global parameters\n",
      "INFO flower 2022-05-03 12:12:16,554 | server.py:323 | Using initial parameters provided by strategy\n",
      "INFO flower 2022-05-03 12:12:16,554 | server.py:130 | Evaluating initial parameters\n",
      "INFO flower 2022-05-03 12:12:16,555 | server.py:143 | FL starting\n",
      "DEBUG flower 2022-05-03 12:12:16,555 | server.py:265 | fit_round: strategy sampled 3 clients (out of 3)\n",
      "DEBUG flower 2022-05-03 12:12:20,316 | server.py:277 | fit_round received 3 results and 0 failures\n",
      "DEBUG flower 2022-05-03 12:12:20,331 | server.py:211 | evaluate_round: strategy sampled 3 clients (out of 3)\n"
     ]
    },
    {
     "name": "stdout",
     "output_type": "stream",
     "text": [
      "Saving L2 round 14 aggregated_weights...\n"
     ]
    },
    {
     "name": "stderr",
     "output_type": "stream",
     "text": [
      "DEBUG flower 2022-05-03 12:12:24,157 | server.py:223 | evaluate_round received 3 results and 0 failures\n",
      "INFO flower 2022-05-03 12:12:24,157 | 2028186136.py:15 | round-14-EVALUATION\n",
      "INFO flower 2022-05-03 12:12:24,159 | 2028186136.py:32 | [('empresa_1', 0.6634446382522583), ('empresa_2', 0.7219402194023132), ('empresa_3', 0.6715825200080872)]\n",
      "INFO flower 2022-05-03 12:12:24,160 | 2028186136.py:38 | Aggregated accuracy: 0.6856557925542196 +- 0.025871168040104135\n",
      "INFO flower 2022-05-03 12:12:24,161 | server.py:182 | FL finished in 7.6056844999999385\n",
      "INFO flower 2022-05-03 12:12:24,161 | app.py:149 | app_fit: losses_distributed [(1, 0.5798458263883078)]\n",
      "INFO flower 2022-05-03 12:12:24,161 | app.py:150 | app_fit: metrics_distributed {}\n",
      "INFO flower 2022-05-03 12:12:24,162 | app.py:151 | app_fit: losses_centralized []\n",
      "INFO flower 2022-05-03 12:12:24,162 | app.py:152 | app_fit: metrics_centralized {}\n",
      "INFO flower 2022-05-03 12:12:29,111 | app.py:144 | Ray initialized with resources: {'node:127.0.0.1': 1.0, 'memory': 12212536935.0, 'object_store_memory': 6106268467.0, 'GPU': 1.0, 'CPU': 8.0}\n",
      "INFO flower 2022-05-03 12:12:29,112 | app.py:153 | Starting Flower simulation running: {'num_rounds': 1}\n",
      "INFO flower 2022-05-03 12:12:29,112 | server.py:128 | Initializing global parameters\n",
      "INFO flower 2022-05-03 12:12:29,113 | server.py:323 | Using initial parameters provided by strategy\n",
      "INFO flower 2022-05-03 12:12:29,113 | server.py:130 | Evaluating initial parameters\n",
      "INFO flower 2022-05-03 12:12:29,113 | server.py:143 | FL starting\n",
      "DEBUG flower 2022-05-03 12:12:29,114 | server.py:265 | fit_round: strategy sampled 7 clients (out of 7)\n",
      "DEBUG flower 2022-05-03 12:12:36,994 | server.py:277 | fit_round received 7 results and 0 failures\n",
      "DEBUG flower 2022-05-03 12:12:37,010 | server.py:211 | evaluate_round: strategy sampled 7 clients (out of 7)\n"
     ]
    },
    {
     "name": "stdout",
     "output_type": "stream",
     "text": [
      "Saving L1 round 15 E1 aggregated_weights...\n"
     ]
    },
    {
     "name": "stderr",
     "output_type": "stream",
     "text": [
      "DEBUG flower 2022-05-03 12:12:38,760 | server.py:223 | evaluate_round received 7 results and 0 failures\n",
      "INFO flower 2022-05-03 12:12:38,760 | server.py:182 | FL finished in 9.646513499999969\n",
      "INFO flower 2022-05-03 12:12:38,760 | app.py:149 | app_fit: losses_distributed [(1, 0.5805612052602592)]\n",
      "INFO flower 2022-05-03 12:12:38,761 | app.py:150 | app_fit: metrics_distributed {}\n",
      "INFO flower 2022-05-03 12:12:38,761 | app.py:151 | app_fit: losses_centralized []\n",
      "INFO flower 2022-05-03 12:12:38,761 | app.py:152 | app_fit: metrics_centralized {}\n"
     ]
    },
    {
     "ename": "Exception",
     "evalue": "The current node has not been updated within 30 seconds, this could happen because of some of the Ray processes failed to startup.",
     "output_type": "error",
     "traceback": [
      "\u001b[1;31m---------------------------------------------------------------------------\u001b[0m",
      "\u001b[1;31mTimeoutError\u001b[0m                              Traceback (most recent call last)",
      "\u001b[1;32m~\\AppData\\Roaming\\Python\\Python39\\site-packages\\ray\\node.py\u001b[0m in \u001b[0;36m__init__\u001b[1;34m(self, ray_params, head, shutdown_at_exit, spawn_reaper, connect_only)\u001b[0m\n\u001b[0;32m    276\u001b[0m             \u001b[1;32mtry\u001b[0m\u001b[1;33m:\u001b[0m\u001b[1;33m\u001b[0m\u001b[1;33m\u001b[0m\u001b[0m\n\u001b[1;32m--> 277\u001b[1;33m                 ray._private.services.wait_for_node(\n\u001b[0m\u001b[0;32m    278\u001b[0m                     \u001b[0mself\u001b[0m\u001b[1;33m.\u001b[0m\u001b[0mredis_address\u001b[0m\u001b[1;33m,\u001b[0m \u001b[0mself\u001b[0m\u001b[1;33m.\u001b[0m\u001b[0mgcs_address\u001b[0m\u001b[1;33m,\u001b[0m\u001b[1;33m\u001b[0m\u001b[1;33m\u001b[0m\u001b[0m\n",
      "\u001b[1;32m~\\AppData\\Roaming\\Python\\Python39\\site-packages\\ray\\_private\\services.py\u001b[0m in \u001b[0;36mwait_for_node\u001b[1;34m(redis_address, gcs_address, node_plasma_store_socket_name, redis_password, timeout)\u001b[0m\n\u001b[0;32m    393\u001b[0m             \u001b[0mtime\u001b[0m\u001b[1;33m.\u001b[0m\u001b[0msleep\u001b[0m\u001b[1;33m(\u001b[0m\u001b[1;36m0.1\u001b[0m\u001b[1;33m)\u001b[0m\u001b[1;33m\u001b[0m\u001b[1;33m\u001b[0m\u001b[0m\n\u001b[1;32m--> 394\u001b[1;33m     \u001b[1;32mraise\u001b[0m \u001b[0mTimeoutError\u001b[0m\u001b[1;33m(\u001b[0m\u001b[1;34m\"Timed out while waiting for node to startup.\"\u001b[0m\u001b[1;33m)\u001b[0m\u001b[1;33m\u001b[0m\u001b[1;33m\u001b[0m\u001b[0m\n\u001b[0m\u001b[0;32m    395\u001b[0m \u001b[1;33m\u001b[0m\u001b[0m\n",
      "\u001b[1;31mTimeoutError\u001b[0m: Timed out while waiting for node to startup.",
      "\nDuring handling of the above exception, another exception occurred:\n",
      "\u001b[1;31mException\u001b[0m                                 Traceback (most recent call last)",
      "\u001b[1;32m~\\AppData\\Local\\Temp/ipykernel_11044/3319466851.py\u001b[0m in \u001b[0;36m<module>\u001b[1;34m\u001b[0m\n\u001b[0;32m     44\u001b[0m             \u001b[1;32mreturn\u001b[0m \u001b[0mconfig\u001b[0m\u001b[1;33m\u001b[0m\u001b[1;33m\u001b[0m\u001b[0m\n\u001b[0;32m     45\u001b[0m \u001b[1;33m\u001b[0m\u001b[0m\n\u001b[1;32m---> 46\u001b[1;33m         fl.simulation.start_simulation(\n\u001b[0m\u001b[0;32m     47\u001b[0m             \u001b[0mclient_fn\u001b[0m\u001b[1;33m=\u001b[0m\u001b[0mconductor_fn\u001b[0m\u001b[1;33m,\u001b[0m\u001b[1;33m\u001b[0m\u001b[1;33m\u001b[0m\u001b[0m\n\u001b[0;32m     48\u001b[0m             \u001b[0mclients_ids\u001b[0m\u001b[1;33m=\u001b[0m\u001b[0mCONDUCTORES_IDS\u001b[0m\u001b[1;33m[\u001b[0m\u001b[0memp_id\u001b[0m\u001b[1;33m]\u001b[0m\u001b[1;33m,\u001b[0m\u001b[1;33m\u001b[0m\u001b[1;33m\u001b[0m\u001b[0m\n",
      "\u001b[1;32m~\\AppData\\Roaming\\Python\\Python39\\site-packages\\flwr\\simulation\\app.py\u001b[0m in \u001b[0;36mstart_simulation\u001b[1;34m(client_fn, num_clients, clients_ids, client_resources, num_rounds, strategy, ray_init_args)\u001b[0m\n\u001b[0;32m    141\u001b[0m \u001b[1;33m\u001b[0m\u001b[0m\n\u001b[0;32m    142\u001b[0m     \u001b[1;31m# Initialize Ray\u001b[0m\u001b[1;33m\u001b[0m\u001b[1;33m\u001b[0m\u001b[0m\n\u001b[1;32m--> 143\u001b[1;33m     \u001b[0mray\u001b[0m\u001b[1;33m.\u001b[0m\u001b[0minit\u001b[0m\u001b[1;33m(\u001b[0m\u001b[1;33m**\u001b[0m\u001b[0mray_init_args\u001b[0m\u001b[1;33m)\u001b[0m\u001b[1;33m\u001b[0m\u001b[1;33m\u001b[0m\u001b[0m\n\u001b[0m\u001b[0;32m    144\u001b[0m     log(\n\u001b[0;32m    145\u001b[0m         \u001b[0mINFO\u001b[0m\u001b[1;33m,\u001b[0m\u001b[1;33m\u001b[0m\u001b[1;33m\u001b[0m\u001b[0m\n",
      "\u001b[1;32m~\\AppData\\Roaming\\Python\\Python39\\site-packages\\ray\\_private\\client_mode_hook.py\u001b[0m in \u001b[0;36mwrapper\u001b[1;34m(*args, **kwargs)\u001b[0m\n\u001b[0;32m    103\u001b[0m             \u001b[1;32mif\u001b[0m \u001b[0mfunc\u001b[0m\u001b[1;33m.\u001b[0m\u001b[0m__name__\u001b[0m \u001b[1;33m!=\u001b[0m \u001b[1;34m\"init\"\u001b[0m \u001b[1;32mor\u001b[0m \u001b[0mis_client_mode_enabled_by_default\u001b[0m\u001b[1;33m:\u001b[0m\u001b[1;33m\u001b[0m\u001b[1;33m\u001b[0m\u001b[0m\n\u001b[0;32m    104\u001b[0m                 \u001b[1;32mreturn\u001b[0m \u001b[0mgetattr\u001b[0m\u001b[1;33m(\u001b[0m\u001b[0mray\u001b[0m\u001b[1;33m,\u001b[0m \u001b[0mfunc\u001b[0m\u001b[1;33m.\u001b[0m\u001b[0m__name__\u001b[0m\u001b[1;33m)\u001b[0m\u001b[1;33m(\u001b[0m\u001b[1;33m*\u001b[0m\u001b[0margs\u001b[0m\u001b[1;33m,\u001b[0m \u001b[1;33m**\u001b[0m\u001b[0mkwargs\u001b[0m\u001b[1;33m)\u001b[0m\u001b[1;33m\u001b[0m\u001b[1;33m\u001b[0m\u001b[0m\n\u001b[1;32m--> 105\u001b[1;33m         \u001b[1;32mreturn\u001b[0m \u001b[0mfunc\u001b[0m\u001b[1;33m(\u001b[0m\u001b[1;33m*\u001b[0m\u001b[0margs\u001b[0m\u001b[1;33m,\u001b[0m \u001b[1;33m**\u001b[0m\u001b[0mkwargs\u001b[0m\u001b[1;33m)\u001b[0m\u001b[1;33m\u001b[0m\u001b[1;33m\u001b[0m\u001b[0m\n\u001b[0m\u001b[0;32m    106\u001b[0m \u001b[1;33m\u001b[0m\u001b[0m\n\u001b[0;32m    107\u001b[0m     \u001b[1;32mreturn\u001b[0m \u001b[0mwrapper\u001b[0m\u001b[1;33m\u001b[0m\u001b[1;33m\u001b[0m\u001b[0m\n",
      "\u001b[1;32m~\\AppData\\Roaming\\Python\\Python39\\site-packages\\ray\\worker.py\u001b[0m in \u001b[0;36minit\u001b[1;34m(address, num_cpus, num_gpus, resources, object_store_memory, local_mode, ignore_reinit_error, include_dashboard, dashboard_host, dashboard_port, job_config, configure_logging, logging_level, logging_format, log_to_driver, namespace, runtime_env, _enable_object_reconstruction, _redis_max_memory, _plasma_directory, _node_ip_address, _driver_object_store_memory, _memory, _redis_password, _temp_dir, _metrics_export_port, _system_config, _tracing_startup_hook, **kwargs)\u001b[0m\n\u001b[0;32m    931\u001b[0m         \u001b[1;31m# handler. We still spawn a reaper process in case the atexit handler\u001b[0m\u001b[1;33m\u001b[0m\u001b[1;33m\u001b[0m\u001b[0m\n\u001b[0;32m    932\u001b[0m         \u001b[1;31m# isn't called.\u001b[0m\u001b[1;33m\u001b[0m\u001b[1;33m\u001b[0m\u001b[0m\n\u001b[1;32m--> 933\u001b[1;33m         _global_node = ray.node.Node(\n\u001b[0m\u001b[0;32m    934\u001b[0m             \u001b[0mhead\u001b[0m\u001b[1;33m=\u001b[0m\u001b[1;32mTrue\u001b[0m\u001b[1;33m,\u001b[0m\u001b[1;33m\u001b[0m\u001b[1;33m\u001b[0m\u001b[0m\n\u001b[0;32m    935\u001b[0m             \u001b[0mshutdown_at_exit\u001b[0m\u001b[1;33m=\u001b[0m\u001b[1;32mFalse\u001b[0m\u001b[1;33m,\u001b[0m\u001b[1;33m\u001b[0m\u001b[1;33m\u001b[0m\u001b[0m\n",
      "\u001b[1;32m~\\AppData\\Roaming\\Python\\Python39\\site-packages\\ray\\node.py\u001b[0m in \u001b[0;36m__init__\u001b[1;34m(self, ray_params, head, shutdown_at_exit, spawn_reaper, connect_only)\u001b[0m\n\u001b[0;32m    279\u001b[0m                     self._plasma_store_socket_name, self.redis_password)\n\u001b[0;32m    280\u001b[0m             \u001b[1;32mexcept\u001b[0m \u001b[0mTimeoutError\u001b[0m\u001b[1;33m:\u001b[0m\u001b[1;33m\u001b[0m\u001b[1;33m\u001b[0m\u001b[0m\n\u001b[1;32m--> 281\u001b[1;33m                 raise Exception(\n\u001b[0m\u001b[0;32m    282\u001b[0m                     \u001b[1;34m\"The current node has not been updated within 30 \"\u001b[0m\u001b[1;33m\u001b[0m\u001b[1;33m\u001b[0m\u001b[0m\n\u001b[0;32m    283\u001b[0m                     \u001b[1;34m\"seconds, this could happen because of some of \"\u001b[0m\u001b[1;33m\u001b[0m\u001b[1;33m\u001b[0m\u001b[0m\n",
      "\u001b[1;31mException\u001b[0m: The current node has not been updated within 30 seconds, this could happen because of some of the Ray processes failed to startup."
     ]
    }
   ],
   "source": [
    "''' Configuracion '''\n",
    "N_RNDS = 20\n",
    "\n",
    "EMPRESAS_IDS = [\"empresa_1\", \"empresa_2\", \"empresa_3\"]\n",
    "\n",
    "CONDUCTORES_IDS = {\n",
    "    1: [3,4,5,12,  2,8,  1],\n",
    "    2: [13,14,    6,7,10,11,16],\n",
    "    3: [15,18,  9,17,20,21,  19]\n",
    "}\n",
    "\n",
    "''' Fichero resultados '''\n",
    "header = EMPRESAS_IDS\n",
    "\n",
    "with open(f\"./results/hito3.csv\", 'w', ) as f:\n",
    "    csv_writer = writer(f)\n",
    "    csv_writer.writerow(header)\n",
    "\n",
    "''' rnds '''\n",
    "for fed_rnd in range(1,N_RNDS+1):\n",
    "    global CURRENT_RND\n",
    "    CURRENT_RND = fed_rnd\n",
    "    \n",
    "    if fed_rnd == 1:\n",
    "        seed(1)\n",
    "        set_random_seed(2)\n",
    "\n",
    "        model = get_model()\n",
    "        weights = model.get_weights()\n",
    "    else:\n",
    "        weights = get_weights_from_file(f\"./rounds/hito3_L2-round-{fed_rnd-1}-weights.npz\") # Resultado ronda anterior\n",
    "        \n",
    "    parameters = fl.common.weights_to_parameters(weights)\n",
    "    \n",
    "    ''' L1 '''\n",
    "    for empresa in EMPRESAS_IDS:\n",
    "    \n",
    "        emp_id = int(empresa[-1])\n",
    "\n",
    "        def L1_fit_config(rnd: int) -> Dict[str, str]:\n",
    "            config = {\n",
    "                \"round\": str(CURRENT_RND)\n",
    "            }\n",
    "            return config\n",
    "\n",
    "        fl.simulation.start_simulation(\n",
    "            client_fn=conductor_fn,\n",
    "            clients_ids=CONDUCTORES_IDS[emp_id],\n",
    "            client_resources={\"num_cpus\": 6},\n",
    "            num_rounds=1,\n",
    "            strategy=L1SaveModelStrategy(\n",
    "                min_available_clients = len(CONDUCTORES_IDS[emp_id]),\n",
    "                min_fit_clients = len(CONDUCTORES_IDS[emp_id]),\n",
    "                min_eval_clients = len(CONDUCTORES_IDS[emp_id]),\n",
    "                on_fit_config_fn = L1_fit_config,\n",
    "                on_evaluate_config_fn = L1_fit_config,\n",
    "                accept_failures=False,\n",
    "                initial_parameters=parameters\n",
    "            )\n",
    "        )\n",
    "        \n",
    "    ''' L2 '''\n",
    "    def L2_fit_config(rnd: int) -> Dict[str, str]:\n",
    "        config = {\n",
    "            \"round\": str(CURRENT_RND)\n",
    "        }\n",
    "        return config\n",
    "\n",
    "    fl.simulation.start_simulation(\n",
    "        client_fn=empresa_fn,\n",
    "        clients_ids=EMPRESAS_IDS,\n",
    "        client_resources={\"num_cpus\": 3},\n",
    "        num_rounds=1,\n",
    "        strategy=L2SaveModelStrategy(\n",
    "            min_available_clients = len(EMPRESAS_IDS),\n",
    "            min_fit_clients = len(EMPRESAS_IDS),\n",
    "            min_eval_clients = len(EMPRESAS_IDS),\n",
    "            on_fit_config_fn = L2_fit_config,\n",
    "            on_evaluate_config_fn = L2_fit_config,\n",
    "            accept_failures=False,\n",
    "            initial_parameters=parameters\n",
    "        )\n",
    "    )"
   ]
  },
  {
   "cell_type": "markdown",
   "id": "89898bb4-63f7-42df-8311-2c2ed8954884",
   "metadata": {},
   "source": [
    "### Result"
   ]
  },
  {
   "cell_type": "code",
   "execution_count": 15,
   "id": "6581b640-122a-4bc7-b339-5106a0e48788",
   "metadata": {},
   "outputs": [
    {
     "name": "stdout",
     "output_type": "stream",
     "text": [
      "Acc máximo: 0.6856557925542196\n"
     ]
    },
    {
     "data": {
      "text/plain": [
       "Text(0.5, 0, 'Federated round')"
      ]
     },
     "execution_count": 15,
     "metadata": {},
     "output_type": "execute_result"
    },
    {
     "data": {
      "image/png": "[encoded data removed]",
      "text/plain": [
       "<Figure size 720x432 with 1 Axes>"
      ]
     },
     "metadata": {
      "needs_background": "light"
     },
     "output_type": "display_data"
    }
   ],
   "source": [
    "import matplotlib\n",
    "\n",
    "font = {'family' : 'serif',\n",
    "        'weight' : 'normal',\n",
    "        'size'   : 16}\n",
    "\n",
    "matplotlib.rc('font', **font)\n",
    "\n",
    "df = pd.read_csv('./results/hito3.csv')\n",
    "# df[\"mean\"] = df.mean(numeric_only=True, axis=1)\n",
    "df.columns = [\"ORG 1\", \"ORG 2\", \"ORG 3\"]\n",
    "\n",
    "print(f'Acc máximo: {df.mean(numeric_only=True, axis=1).max()}')\n",
    "\n",
    "f = plt.figure(figsize=(10,6))\n",
    "ax = f.add_subplot()\n",
    "\n",
    "df.plot(ax=ax, ylim=(0,1), linewidth=2.5)\n",
    "ax.set_ylabel(\"Accuracy\")\n",
    "ax.set_xlabel(\"Federated round\")"
   ]
  },
  {
   "cell_type": "code",
   "execution_count": null,
   "id": "8bb72060-b16b-4fe3-80a8-a1ffeb6039dd",
   "metadata": {},
   "outputs": [],
   "source": []
  }
 ],
 "metadata": {
  "kernelspec": {
   "display_name": "Python 3 (ipykernel)",
   "language": "python",
   "name": "python3"
  },
  "language_info": {
   "codemirror_mode": {
    "name": "ipython",
    "version": 3
   },
   "file_extension": ".py",
   "mimetype": "text/x-python",
   "name": "python",
   "nbconvert_exporter": "python",
   "pygments_lexer": "ipython3",
   "version": "3.9.7"
  }
 },
 "nbformat": 4,
 "nbformat_minor": 5
}
