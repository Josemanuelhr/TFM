{
 "cells": [
  {
   "cell_type": "markdown",
   "id": "7c92d29f-f7ef-4ae7-87d2-19ee2f15c707",
   "metadata": {},
   "source": [
    "En este jupyter notebook se agregarán los datos de todos los usuarios pertenecientes a cada compañia y se generarán los respectivos conjuntos de train y test\n",
    "\n",
    "empresa_1  \n",
    "- train   \n",
    "- test\n",
    "    \n",
    "empresa_2\n",
    "- train\n",
    "- test"
   ]
  },
  {
   "cell_type": "code",
   "execution_count": 22,
   "id": "2933052d-b5be-4def-851b-e49f8742f2e9",
   "metadata": {},
   "outputs": [],
   "source": [
    "import os\n",
    "import pandas as pd\n",
    "import numpy as np\n",
    "import matplotlib.pyplot as plt\n",
    "\n",
    "import tensorflow as tf\n",
    "from sklearn.model_selection import train_test_split\n",
    "from sklearn.preprocessing import MinMaxScaler\n",
    "from tensorflow.keras.utils import to_categorical"
   ]
  },
  {
   "cell_type": "code",
   "execution_count": 23,
   "id": "54203dd7-99ba-429c-892f-0e4407133349",
   "metadata": {},
   "outputs": [],
   "source": [
    "def prepare_model_data(client_file):\n",
    "    df = pd.read_csv(client_file)\n",
    "    \n",
    "    train, test = train_test_split(df, test_size=0.30, random_state=42)\n",
    "    \n",
    "    X_train = train[['psd_delta', 'psd_theta', 'psd_alpha', 'psd_beta', 'psd_gamma','eog_blinks', 'eog_var']]\n",
    "    X_test = test[['psd_delta', 'psd_theta', 'psd_alpha', 'psd_beta', 'psd_gamma','eog_blinks', 'eog_var']]\n",
    "    y_train = train['y_class']\n",
    "    y_test = test['y_class']\n",
    "    \n",
    "    scaler = MinMaxScaler()\n",
    "\n",
    "#     X_train = scaler.fit_transform(X_train)\n",
    "#     X_test = scaler.transform(X_test)\n",
    "    \n",
    "    num_classes = 2\n",
    "\n",
    "    y_train = to_categorical(y_train, num_classes)\n",
    "    y_test = to_categorical(y_test, num_classes)\n",
    "    \n",
    "    return X_train, X_test, y_train, y_test"
   ]
  },
  {
   "cell_type": "code",
   "execution_count": 31,
   "id": "c4d4d19e-e865-4525-b506-244fee0d5ce9",
   "metadata": {},
   "outputs": [],
   "source": [
    "def get_data_empresa(empresa):\n",
    "    # Cargar y procesar datos de todos sus clientes\n",
    "    clientes = os.listdir(f\"./data/horizontal/{empresa}/\")\n",
    "    X_train, X_test, y_train, y_test = prepare_model_data(f'./data/horizontal/{empresa}/{clientes[0]}')\n",
    "\n",
    "    # Cada cliente envia el min y el max de cada columna para agregarlos y obtener el min max global (de los datos de train)\n",
    "    min_max = {\n",
    "        \"min\": {},\n",
    "        \"max\": {}\n",
    "    }\n",
    "    t = X_train.aggregate([min, max])\n",
    "    for c in t.columns:\n",
    "        min_max[\"min\"][c] = t[c][0]\n",
    "        min_max[\"max\"][c] = t[c][1]\n",
    "\n",
    "    for file in clientes[1:]:\n",
    "        path = f'./data/horizontal/{empresa}/{file}'\n",
    "        X_train_act, X_test_act, y_train_act, y_test_act = prepare_model_data(path)\n",
    "\n",
    "        t = X_train_act.aggregate([min, max])\n",
    "        for c in t.columns:\n",
    "            if min_max[\"min\"][c] > t[c][0]:\n",
    "                min_max[\"min\"][c] = t[c][0]\n",
    "            if min_max[\"max\"][c] < t[c][1]:\n",
    "                min_max[\"max\"][c] = t[c][1]\n",
    "\n",
    "        X_train = pd.concat([X_train, X_train_act], ignore_index=True)\n",
    "        X_test = pd.concat([X_test, X_test_act], ignore_index=True)\n",
    "        y_train = np.vstack((y_train, y_train_act))\n",
    "        y_test = np.vstack((y_test, y_test_act))\n",
    "\n",
    "    for feature_name in X_train.columns:\n",
    "        min_value = min_max[\"min\"][feature_name]\n",
    "        max_value = min_max[\"max\"][feature_name]\n",
    "\n",
    "        X_train[feature_name] = (X_train[feature_name] - min_value) / (max_value - min_value)\n",
    "        X_test[feature_name] = (X_test[feature_name] - min_value) / (max_value - min_value)\n",
    "\n",
    "    X_train = X_train.to_numpy()\n",
    "    X_test = X_test.to_numpy()\n",
    "    \n",
    "    return X_train, X_test, y_train, y_test"
   ]
  },
  {
   "cell_type": "code",
   "execution_count": 35,
   "id": "1a67c392-f54e-49b8-bb98-394a8d139ab8",
   "metadata": {},
   "outputs": [
    {
     "name": "stdout",
     "output_type": "stream",
     "text": [
      "6485 2789 6485 2789\n",
      "7040 3023 7040 3023\n"
     ]
    }
   ],
   "source": [
    "empresas = [\"empresa_1\", \"empresa_2\"]\n",
    "\n",
    "for empresa in empresas:\n",
    "    X_train, X_test, y_train, y_test = get_data_empresa(empresa)\n",
    "    print(len(X_train),len(X_test), len(y_train), len(y_test))"
   ]
  },
  {
   "cell_type": "code",
   "execution_count": null,
   "id": "072428b5-61d1-4ea1-a71e-ae22fdf92c5e",
   "metadata": {},
   "outputs": [],
   "source": []
  }
 ],
 "metadata": {
  "kernelspec": {
   "display_name": "Python 3 (ipykernel)",
   "language": "python",
   "name": "python3"
  },
  "language_info": {
   "codemirror_mode": {
    "name": "ipython",
    "version": 3
   },
   "file_extension": ".py",
   "mimetype": "text/x-python",
   "name": "python",
   "nbconvert_exporter": "python",
   "pygments_lexer": "ipython3",
   "version": "3.9.7"
  }
 },
 "nbformat": 4,
 "nbformat_minor": 5
}
